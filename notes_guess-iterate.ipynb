{
 "cells": [
  {
   "cell_type": "markdown",
   "metadata": {
    "slideshow": {
     "slide_type": "slide"
    }
   },
   "source": [
    "# Notes on the guess-and-iterate method"
   ]
  },
  {
   "cell_type": "markdown",
   "metadata": {
    "slideshow": {
     "slide_type": "slide"
    }
   },
   "source": [
    "# Example of things gone wrong"
   ]
  },
  {
   "cell_type": "markdown",
   "metadata": {},
   "source": [
    "Sometimes, the way you setup the two equations to iterate makes the difference between finding a solution or getting incoherent results in a few steps.\n",
    "\n",
    "As an example of this phenomenon, consider question 2 from hw08.  This is a topologically similar circuit to the one of this assignment but with different numbers and equations for the diode.  The concepts shown and discussed below are the same, however.\n",
    "\n",
    "First step is to construct the two mutually-coupled equations with which to iterate.  How about the given equation for the diode current as a function of diode voltage:\n",
    "\n",
    "\\begin{equation}\n",
    "i_x = 10^{-12} \\bigl[\\exp(v_D/V_T) -1 \\bigr]\n",
    "\\end{equation}\n",
    "\n",
    "Then $v_D$ as a function of $i_x$ using Ohm's law and KVL with the resistor:\n",
    "\n",
    "\\begin{equation}\n",
    "v_D = 3.3 - 500 \\cdot i_x\n",
    "\\end{equation}\n",
    "\n",
    "Set these up as functions:"
   ]
  },
  {
   "cell_type": "code",
   "execution_count": 1,
   "metadata": {
    "collapsed": true
   },
   "outputs": [],
   "source": [
    "from numpy import exp\n",
    "\n",
    "# id equation from the diode\n",
    "def ix_d(vd):\n",
    "    return 1e-12 * (exp(vd/26e-3) - 1)\n",
    "\n",
    "# vd equation from the resistor\n",
    "def vd_r(ix):\n",
    "    return 3.3 - 500*ix"
   ]
  },
  {
   "cell_type": "markdown",
   "metadata": {
    "slideshow": {
     "slide_type": "slide"
    }
   },
   "source": [
    "# Compute and show the individual steps\n",
    "\n",
    "The below function accepts two functions and an initial guess.  It is the python code version of our guess-and-iterate procedure."
   ]
  },
  {
   "cell_type": "code",
   "execution_count": 2,
   "metadata": {
    "collapsed": true
   },
   "outputs": [],
   "source": [
    "def iterate(func1, func2, guess,\n",
    "            tol=1e-5,\n",
    "            verbose=True,\n",
    "            maxiter=100):\n",
    "    \"\"\"Iterates two mutually-coupled equations starting from a first\n",
    "    guess of y=func1(guess), then x=func2(y), then y=func1(x),\n",
    "    and so on until:\n",
    "        a) the relative change in is less than tol\n",
    "        b) the maximum number of iterations is reached\n",
    "    \"\"\"\n",
    "\n",
    "    i = 0\n",
    "\n",
    "    #function evaluation wrapper to print its results at each step\n",
    "    def doit(f, x):\n",
    "        #print the failing step before raising the original exception\n",
    "        try:\n",
    "            y = f(x)\n",
    "        except:\n",
    "            if verbose:\n",
    "                print('%i: %s( %9.2e ) = *FAIL*' % (i, f.__name__, x))\n",
    "            raise\n",
    "            \n",
    "        if verbose: print('%i: %s( %+9.2e ) => %9.2e' % (i, f.__name__, x, y))\n",
    "        return y\n",
    "    \n",
    "    #manually do the first step so we have two values of each variable\n",
    "    x_last = guess\n",
    "    y_last = doit(func1, guess)\n",
    "    i += 1\n",
    "    \n",
    "    x = doit(func2, y_last)\n",
    "    y = doit(func1, x)\n",
    "    i += 1\n",
    "    \n",
    "    while True:\n",
    "        y = doit(func2, x)\n",
    "        x = doit(func1, y)\n",
    "        \n",
    "        if ((abs(y_last - y)/y) < tol and\n",
    "            (abs(x_last - x)/x) < tol):\n",
    "            # a) convergence\n",
    "            return (x, y)\n",
    "        elif i >= maxiter:\n",
    "            # b) too many iterationss\n",
    "            print('*** Reached maximum number of iterations (%i) ***' % i)\n",
    "            return (x, y)\n",
    "        else:\n",
    "            #housekeeping, keep going\n",
    "            x_last = x\n",
    "            y_last = y\n",
    "            i += 1\n",
    "            "
   ]
  },
  {
   "cell_type": "markdown",
   "metadata": {},
   "source": [
    "Now, pass in our two functions and an initial guess for $v_D$.  A reasonable guess would be halfway between zero and the $3.3\\,\\mathrm{V}$ source: $1.65 \\,\\mathrm{V}$."
   ]
  },
  {
   "cell_type": "code",
   "execution_count": 3,
   "metadata": {
    "slideshow": {
     "slide_type": "subslide"
    }
   },
   "outputs": [
    {
     "name": "stdout",
     "output_type": "stream",
     "text": [
      "0: ix_d( +1.65e+00 ) =>  3.64e+15\n",
      "1: vd_r( +3.64e+15 ) => -1.82e+18\n",
      "1: ix_d( -1.82e+18 ) => -1.00e-12\n",
      "2: vd_r( -1.82e+18 ) =>  9.10e+20\n",
      "2: ix_d( +9.10e+20 ) =>       inf\n",
      "3: vd_r(      +inf ) =>      -inf\n",
      "3: ix_d(      -inf ) => -1.00e-12\n",
      "4: vd_r( -1.00e-12 ) =>  3.30e+00\n",
      "4: ix_d( +3.30e+00 ) =>  1.32e+43\n",
      "5: vd_r( +1.32e+43 ) => -6.62e+45\n",
      "5: ix_d( -6.62e+45 ) => -1.00e-12\n"
     ]
    },
    {
     "name": "stderr",
     "output_type": "stream",
     "text": [
      "/home/dan/anaconda3/lib/python3.6/site-packages/ipykernel/__main__.py:5: RuntimeWarning: overflow encountered in exp\n",
      "/home/dan/anaconda3/lib/python3.6/site-packages/ipykernel/__main__.py:40: RuntimeWarning: invalid value encountered in double_scalars\n"
     ]
    },
    {
     "data": {
      "text/plain": [
       "(-9.9999999999999998e-13, -6.6215848198684692e+45)"
      ]
     },
     "execution_count": 3,
     "metadata": {},
     "output_type": "execute_result"
    }
   ],
   "source": [
    "iterate(ix_d, vd_r, 1.65)"
   ]
  },
  {
   "cell_type": "markdown",
   "metadata": {},
   "source": [
    "!Wow!  Do you see what happened?  A guess of $v_D = 1.65 \\,\\mathrm{V}$ gave an $i_x$ of $3.6\\times 10^{15} V$, or $3.6$ petavolts.  From there, the situation just got worse and the iteration didn't nicely converge to anything useful.  In fact, the computer stopped the iteration after it started computing bogus numbers."
   ]
  },
  {
   "cell_type": "markdown",
   "metadata": {
    "slideshow": {
     "slide_type": "slide"
    }
   },
   "source": [
    "# Teach the computer about sane values!\n",
    "\n",
    "This code version of guess-and-iterate did not include the most important aspect: ***YOU!***  You would have stopped around step 0 or 1 because the numbers were not working out.\n",
    "\n",
    "What is missing is a sanity check.  From inspecting the circuit, it is clear that $v_D$ can only be in the range of $0$ to $3.3 \\,\\mathrm{V}$ and the current $i_x$ can only be in the range $0$ to $(3.3\\,\\mathrm{V} \\, / \\, 500\\,\\mathrm{\\Omega}) = 6.6\\,\\mathrm{mA}$.  Add a range check to our `iterate` function to include valid ranges on the variables."
   ]
  },
  {
   "cell_type": "code",
   "execution_count": 4,
   "metadata": {
    "collapsed": true
   },
   "outputs": [],
   "source": [
    "def iterate(func1, func2, guess, xlim, ylim,\n",
    "            tol=1e-6,\n",
    "            verbose=True,\n",
    "            maxiter=100):\n",
    "    \"\"\"Iterates two mutually-coupled equations starting from a first\n",
    "    guess of y=func1(guess), then x=func2(y), then y=func1(x),\n",
    "    and so on until:\n",
    "        a) the relative change is less than tol\n",
    "        b) the maximum number of iterations is reached\n",
    "        c) one of our values goes out of range\n",
    "    \"\"\"\n",
    "\n",
    "    i = 0\n",
    "    iterations = []\n",
    "\n",
    "    #function evaluation wrapper to print its results at each step\n",
    "    def doit(f, x, limits):\n",
    "        if (x < min(limits) or (x > max(limits))):\n",
    "            if verbose:\n",
    "                print('%i: %s( %g ) = *FAIL*  *** out of range (%g, %g) ***' % (\n",
    "                        i, f.__name__, x, limits[0], limits[1]))\n",
    "            raise StopIteration\n",
    "            \n",
    "        #print the failing step before raising the original exception\n",
    "        # the limit check should catch the normal errors\n",
    "        try:\n",
    "            y = f(x)\n",
    "        except:\n",
    "            if verbose:\n",
    "                print('%i: %s( %9.2e ) = *FAIL*' % (i, f.__name__, x))\n",
    "            raise\n",
    "            \n",
    "        if verbose: print('%i: %s( %+9.2e ) => %9.2e' % (i, f.__name__, x, y))\n",
    "        \n",
    "        if len(iterations) % 2 == 0:\n",
    "            iterations.append((x, y))\n",
    "        else:\n",
    "            iterations.append((y, x))\n",
    "            \n",
    "        return y\n",
    "\n",
    "    try:\n",
    "        #manually do the first step so we have two values of each variable\n",
    "        x_last = guess\n",
    "        x = x_last\n",
    "        y_last = doit(func1, guess, xlim)\n",
    "        y = y_last\n",
    "        x = doit(func2, y_last, ylim)\n",
    "        i += 1\n",
    "        \n",
    "        while True:\n",
    "            y = doit(func1, x, xlim)\n",
    "            x = doit(func2, y, ylim)\n",
    "            i += 1\n",
    "            \n",
    "            if ((abs(y_last - y)/y) < tol and\n",
    "                (abs(x_last - x)/x) < tol):\n",
    "                # a) convergence\n",
    "                print('*** converged ***')\n",
    "                raise StopIteration\n",
    "            elif i >= maxiter:\n",
    "                # b) too many iterationss\n",
    "                print('*** Reached maximum number of iterations (%i) ***' % i)\n",
    "                raise StopIteration\n",
    "            else:\n",
    "                #housekeeping, keep going\n",
    "                x_last = x\n",
    "                y_last = y\n",
    "\n",
    "    except StopIteration:\n",
    "        pass\n",
    "    \n",
    "    return x, y, iterations\n"
   ]
  },
  {
   "cell_type": "markdown",
   "metadata": {},
   "source": [
    "Ok, now setup the iteration again with the same guess but now include the limits on $v_D$ and $i_x$."
   ]
  },
  {
   "cell_type": "code",
   "execution_count": 5,
   "metadata": {
    "slideshow": {
     "slide_type": "subslide"
    }
   },
   "outputs": [
    {
     "name": "stdout",
     "output_type": "stream",
     "text": [
      "0: ix_d( +1.65e+00 ) =>  3.64e+15\n",
      "0: vd_r( 3.63912e+15 ) = *FAIL*  *** out of range (0, 0.0066) ***\n"
     ]
    }
   ],
   "source": [
    "ix, vd, s = iterate(ix_d, vd_r, 1.65, [0, 3.3], [0, 6.6e-3])"
   ]
  },
  {
   "cell_type": "markdown",
   "metadata": {
    "slideshow": {
     "slide_type": "subslide"
    }
   },
   "source": [
    "At least we now have a stated reason for failing.  What about a different guess, like $v_D=0$?"
   ]
  },
  {
   "cell_type": "code",
   "execution_count": 6,
   "metadata": {},
   "outputs": [
    {
     "name": "stdout",
     "output_type": "stream",
     "text": [
      "0: ix_d( +0.00e+00 ) =>  0.00e+00\n",
      "0: vd_r( +0.00e+00 ) =>  3.30e+00\n",
      "1: ix_d( +3.30e+00 ) =>  1.32e+43\n",
      "1: vd_r( 1.32432e+43 ) = *FAIL*  *** out of range (0, 0.0066) ***\n"
     ]
    }
   ],
   "source": [
    "ix, vd, s = iterate(ix_d, vd_r, 0, [0, 3.3], [0, 6.6e-3])"
   ]
  },
  {
   "cell_type": "markdown",
   "metadata": {},
   "source": [
    "It turns out that, unless we guess exactly right, this will always happen with this set of equations.  The points $(v_d, i_x)$ spiral \"out of control\" as the iteration progresses.\n",
    "\n",
    "What to do?"
   ]
  },
  {
   "cell_type": "markdown",
   "metadata": {
    "slideshow": {
     "slide_type": "slide"
    }
   },
   "source": [
    "# Convergence strategy\n",
    "\n",
    "How about invert the two equations.  Solve each equation the other way around:\n",
    "\n",
    "Find the current from Ohms law:\n",
    "\n",
    "\\begin{equation}\n",
    "i_x = \\dfrac{3.3 - v_D}{500}\n",
    "\\end{equation}\n",
    "\n",
    "Solve the diode equation for $v_D$:\n",
    "\n",
    "\\begin{equation}\n",
    "v_D = V_T \\ln\\left[1 + \\dfrac{i_x}{I_S}\\right]\n",
    "\\end{equation}"
   ]
  },
  {
   "cell_type": "code",
   "execution_count": 7,
   "metadata": {
    "collapsed": true
   },
   "outputs": [],
   "source": [
    "def ix_r(vd):\n",
    "    return (3.3 - vd)/500\n",
    "\n",
    "def vd_d(ix):\n",
    "    return 26e-3 * log(1 + ix/1e-12)"
   ]
  },
  {
   "cell_type": "markdown",
   "metadata": {},
   "source": [
    "Let's plot the iteration steps as they happen.  First plot the two functions themselves on the same plot.  Use the same axes, so the $v_D$ plot is mirrored."
   ]
  },
  {
   "cell_type": "code",
   "execution_count": 8,
   "metadata": {
    "collapsed": true,
    "slideshow": {
     "slide_type": "-"
    }
   },
   "outputs": [],
   "source": [
    "%config InlineBackend.close_figures = False\n",
    "\n",
    "from matplotlib import animation\n",
    "from IPython.display import HTML\n",
    "from pylab import *\n",
    "\n",
    "mpl.rcParams['figure.figsize'] = (12.0, 8.0)\n",
    "mpl.rcParams['font.size'] = 18\n",
    "mpl.rcParams['lines.linewidth'] = 4\n",
    "mpl.rcParams['lines.markersize'] = 4\n",
    "\n",
    "\n",
    "close('all')\n",
    "\n",
    "vd = linspace(0, 3.3, 1000)\n",
    "ix = linspace(0, 6.6e-3, 1000)\n",
    "\n",
    "plot(vd, ix_r(vd), label='ix_r(va)')\n",
    "plot(vd_d(ix), ix, label='vd_d(ia)')\n",
    "xlabel('$v_D$'); ylabel('$i_x$'); legend(loc='best'); grid(True)"
   ]
  },
  {
   "cell_type": "code",
   "execution_count": 9,
   "metadata": {
    "slideshow": {
     "slide_type": "slide"
    }
   },
   "outputs": [
    {
     "data": {
      "image/png": "[encoded data removed]",
      "text/plain": [
       "<matplotlib.figure.Figure at 0x7ff21d64cf28>"
      ]
     },
     "metadata": {},
     "output_type": "display_data"
    }
   ],
   "source": [
    "show()"
   ]
  },
  {
   "cell_type": "markdown",
   "metadata": {
    "slideshow": {
     "slide_type": "subslide"
    }
   },
   "source": [
    "Run the guess-and-iterate again.  Use the same initial guess $v_D = 1.65 V$."
   ]
  },
  {
   "cell_type": "code",
   "execution_count": 10,
   "metadata": {},
   "outputs": [
    {
     "name": "stdout",
     "output_type": "stream",
     "text": [
      "0: ix_r( +1.65e+00 ) =>  3.30e-03\n",
      "0: vd_d( +3.30e-03 ) =>  5.70e-01\n",
      "1: ix_r( +5.70e-01 ) =>  5.46e-03\n",
      "1: vd_d( +5.46e-03 ) =>  5.83e-01\n",
      "2: ix_r( +5.83e-01 ) =>  5.43e-03\n",
      "2: vd_d( +5.43e-03 ) =>  5.83e-01\n",
      "3: ix_r( +5.83e-01 ) =>  5.43e-03\n",
      "3: vd_d( +5.43e-03 ) =>  5.83e-01\n",
      "4: ix_r( +5.83e-01 ) =>  5.43e-03\n",
      "4: vd_d( +5.43e-03 ) =>  5.83e-01\n",
      "*** converged ***\n"
     ]
    }
   ],
   "source": [
    "ix, vd, s = iterate(ix_r, vd_d, 1.65, [0, 3.3], [0, 6.6e-3])"
   ]
  },
  {
   "cell_type": "markdown",
   "metadata": {},
   "source": [
    "Success!  We declared convergence after the 4th step.\n",
    "\n",
    "To see what's going on a little better, plot the steps of the iteration on our plot of the two functions from before."
   ]
  },
  {
   "cell_type": "code",
   "execution_count": 11,
   "metadata": {
    "collapsed": true
   },
   "outputs": [],
   "source": [
    "#reset and setup an animation\n",
    "\n",
    "close('all')\n",
    "\n",
    "#setup the base of the plot\n",
    "fig, ax = plt.subplots()\n",
    "vd = linspace(0, 3.3, 1000)\n",
    "ix = linspace(0, 6.6e-3, 1000)\n",
    "\n",
    "#dark axis lines\n",
    "ax.hlines(0, 0, 1.1*max(vd), 'k')\n",
    "ax.vlines(0, 0, 1.1*max(ix), 'k')\n",
    "\n",
    "ax.plot(vd, ix_r(vd), label='ix_r(va)')\n",
    "ax.plot(vd_d(ix), ix, label='vd_d(ia)')\n",
    "ax.set_xlabel('$v_D$')\n",
    "ax.set_ylabel('$i_x$')\n",
    "\n",
    "ax.set_xlim([0, 2])\n",
    "ax.set_ylim([0, 6e-3])\n",
    "legend(loc='upper right')\n",
    "grid(True)\n",
    "\n",
    "annotations = []\n",
    "\n",
    "def init():\n",
    "    #remove annotations\n",
    "    for a in annotations:\n",
    "        a.remove()\n",
    "\n",
    "def animate(i):\n",
    "    #reuses the s return value from iterate()\n",
    "    annotations[:] = []\n",
    "    p = {'width': 1,\n",
    "         'color': 'k'}\n",
    "    for j in range(1, i+1):\n",
    "        x0 = s[j-1][0]\n",
    "        y0 = s[j-1][1]\n",
    "        x1 = s[j][0]\n",
    "        y1 = s[j][1]\n",
    "\n",
    "        if j == i:\n",
    "            p['color'] = 'r'\n",
    "        a = ax.annotate('', [x1, y1], [x0, y0], arrowprops=p, clip_on=True)\n",
    "        annotations.append(a)\n",
    "\n",
    "init()\n",
    "animate(4)"
   ]
  },
  {
   "cell_type": "code",
   "execution_count": 12,
   "metadata": {
    "slideshow": {
     "slide_type": "subslide"
    }
   },
   "outputs": [
    {
     "data": {
      "image/png": "[encoded data removed]",
      "text/plain": [
       "<matplotlib.figure.Figure at 0x7ff217a13470>"
      ]
     },
     "metadata": {},
     "output_type": "display_data"
    }
   ],
   "source": [
    "show()"
   ]
  },
  {
   "cell_type": "markdown",
   "metadata": {
    "slideshow": {
     "slide_type": "subslide"
    }
   },
   "source": [
    "Zoom in to the intersection"
   ]
  },
  {
   "cell_type": "code",
   "execution_count": 13,
   "metadata": {
    "collapsed": true,
    "slideshow": {
     "slide_type": "skip"
    }
   },
   "outputs": [],
   "source": [
    "init()\n",
    "ylim((5.4e-3, 5.5e-3))\n",
    "xlim((0.56, 0.59))\n",
    "animate(6)"
   ]
  },
  {
   "cell_type": "code",
   "execution_count": 14,
   "metadata": {
    "slideshow": {
     "slide_type": "-"
    }
   },
   "outputs": [
    {
     "data": {
      "image/png": "[encoded data removed]",
      "text/plain": [
       "<matplotlib.figure.Figure at 0x7ff217a13470>"
      ]
     },
     "metadata": {},
     "output_type": "display_data"
    }
   ],
   "source": [
    "show()"
   ]
  },
  {
   "cell_type": "markdown",
   "metadata": {},
   "source": [
    "Pretty animation in the live / HTML version"
   ]
  },
  {
   "cell_type": "code",
   "execution_count": 15,
   "metadata": {
    "slideshow": {
     "slide_type": "slide"
    }
   },
   "outputs": [
    {
     "data": {
      "text/html": [
       "<video width=\"864\" height=\"576\" controls autoplay loop>\n",
       "  <source type=\"video/mp4\" src=\"data:video/mp4;base64,AAAAHGZ0eXBNNFYgAAACAGlzb21pc28yYXZjMQAAAAhmcmVlAABSGW1kYXQAAAKtBgX//6ncRem9\n",
       "5tlIt5Ys2CDZI+7veDI2NCAtIGNvcmUgMTQ4IHIyNjQzIDVjNjU3MDQgLSBILjI2NC9NUEVHLTQg\n",
       "QVZDIGNvZGVjIC0gQ29weWxlZnQgMjAwMy0yMDE1IC0gaHR0cDovL3d3dy52aWRlb2xhbi5vcmcv\n",
       "eDI2NC5odG1sIC0gb3B0aW9uczogY2FiYWM9MSByZWY9MyBkZWJsb2NrPTE6MDowIGFuYWx5c2U9\n",
       "MHgzOjB4MTEzIG1lPWhleCBzdWJtZT03IHBzeT0xIHBzeV9yZD0xLjAwOjAuMDAgbWl4ZWRfcmVm\n",
       "PTEgbWVfcmFuZ2U9MTYgY2hyb21hX21lPTEgdHJlbGxpcz0xIDh4OGRjdD0xIGNxbT0wIGRlYWR6\n",
       "b25lPTIxLDExIGZhc3RfcHNraXA9MSBjaHJvbWFfcXBfb2Zmc2V0PS0yIHRocmVhZHM9NiBsb29r\n",
       "YWhlYWRfdGhyZWFkcz0xIHNsaWNlZF90aHJlYWRzPTAgbnI9MCBkZWNpbWF0ZT0xIGludGVybGFj\n",
       "ZWQ9MCBibHVyYXlfY29tcGF0PTAgY29uc3RyYWluZWRfaW50cmE9MCBiZnJhbWVzPTMgYl9weXJh\n",
       "bWlkPTIgYl9hZGFwdD0xIGJfYmlhcz0wIGRpcmVjdD0xIHdlaWdodGI9MSBvcGVuX2dvcD0wIHdl\n",
       "aWdodHA9MiBrZXlpbnQ9MjUwIGtleWludF9taW49MSBzY2VuZWN1dD00MCBpbnRyYV9yZWZyZXNo\n",
       "PTAgcmNfbG9va2FoZWFkPTQwIHJjPWNyZiBtYnRyZWU9MSBjcmY9MjMuMCBxY29tcD0wLjYwIHFw\n",
       "bWluPTAgcXBtYXg9NjkgcXBzdGVwPTQgaXBfcmF0aW89MS40MCBhcT0xOjEuMDAAgAAAQ2tliIQA\n",
       "Fv/+99M/zLLr9zm146j3op4mX0N1JQGblsTtOoAAAAMAAAMAAAMAAtyQKz3pk1pHMIAAAAMAE8AC\n",
       "D5N/426B4ADoCbqTnq0qnqBFnQED94mb/4gXtls18d49wk9LqfJKZ3BRLxpV1PV6F+RXBds9XWKP\n",
       "ql/kG7jQ19ruqUhAKpIeih+NHk1nPu/W74dz9QpthFaH6V2ti2QKq4jqKD/0Io5SOuCNBjo3N+nX\n",
       "xUIloWkAHvLqxUbqVEMWZKGmEkhZH66WJ4JWcBicCQCNLsSBQoR/8tektBp9X3LPEDfRhsvX5Xdi\n",
       "n9I4VlgH8MIXsUrGs8ofzYeoywgwLU1vkS/QmXXynpAVgWI13XzbHKbnhI88KgW+Zz8W3BjVBzAb\n",
       "1w780RoxdsFsR1MnGg6SFpZLhYuDi1tavGbjI97A75wGGMccEtXGDtasGa/cc5BaH2dd6UY2A8EZ\n",
       "9aZQ48n6c3GoZQbEv91W3c9M67DFF+3RtFm4bR0+FTxMANY5hb8eGuFjvfyHu9REmifTofGypewP\n",
       "p/1A8GxnQ5vLsTI9Lz4AkGmb2kbpgx4LGqUzljkeV6EJGgYMuCOQD8qRXBRkCK2fkZK3+60ehdl/\n",
       "V6gSuq6KIRPtowGKCsMIvwgmOCgFBi/gcC65Qr3UW53EUrxT1Kx6zItVwHC8He29h1AiM1EoYLhr\n",
       "UjgSgslwSH2wjyIDvG66qhwxgY/u4S9umIK754u+yxuJ0UU3dJxoC7JediUC+8+fyRAFeygij/Le\n",
       "kXx0px7SCtq/XOVhWUxFj0f5/XTA7/3THoAU6v98gwoDsrjZ5ITNko8vX+kGQqzg8Y8+0cxM9vzt\n",
       "ohFE+4VTvosUEkgEGRGxav/k5GA1O5RITQK1q/8vIhVDff+4S0YOVHzcmRjK6lIdVGMNzVAUI2+w\n",
       "p+7FsuqXOFrjMm+emaOKmc2z+MWVxAkd9i0bUhJDvK1iMSXBiJgbOqKACrM9ZJyipv2ZtdmlQbPg\n",
       "VHoOtF7/upd61u5Ciggg/dng/ntvQcn8qYJ/aq8gP3qOkKTlNcRT+vSG+942IBE1zYrRJuW2HB8K\n",
       "CIV80nrarmD8qyiCaGrQX2wsrn2yuOvKjqTFwIY8LAVlBs99henxU123rSHqDPT7Qn8Y88YVqqJB\n",
       "X/uOQbBPDtLV4DjXihdJIx3Zsef6+Mmcu5lkAYJrG51Zl1gVf1wXcfRs/f+IWV0SeURj0vjedPqa\n",
       "GbOIBdjR5DT6D9uXGwILdqdt7c47s9gaxqCLN8w91qWVZ+KGVQRSM66A3hriOKq8yksNHRHG5k8z\n",
       "u3ICyD70PQzcvHzz9NNLOlWgCCYWhNHihOyBp70ZmO0+iPwkodM++8lWPKFZxNQxOsnjwdvTdAiC\n",
       "W9F75wab3w0w0RADLuwGnRvZsN4Aku4nvQ7Ajx1KanoFbCGkvEtR4+GWoRV7L8Y75Gq2hhsrmFB/\n",
       "hnp+hd4mk+ACdsFKRwaFqAkx4Bb9IEOv/5PYNMftx4caD2wYCLarT/deA4I8nvH2/awm8ieVBjwG\n",
       "ODbCdVzZRJYghEPUvRIsODO9IItruOE3WhK83X288NjuCTyQVO4KLXgiGvVQPn3DBj7mEvb8pQ39\n",
       "lGKyEFhMZOfTAc7U3/MWe6T+5h3xM0z924n770JSJw7E09yA+EmHHH6cWIka31I5WhfATcBOoR6+\n",
       "jlhJezOoBHl49mLrLYqi/JaisINGhA4p/7IHeOsSTd/cmFsZOAeyoS2HsTuXweuMfqibHwues8Ht\n",
       "oNmyumTrggWROA7FQMhzgDdXzCIiwFDHy/0GueBWx2JrqIcYLM9p3oI6Vj7DtF/UJKdk0SaWAV0I\n",
       "hwPWbW2xOkUNcCkIediIrSS4+eVteWg1PUENtwhOXzXjSfxcKaMV9BUuDQRA2VWzO31gTVhwe3Tu\n",
       "vA8m2xpsBMFViBRhVTLt4igiMRyawbEQPD8gaxhcsJz+QX01F7+fAjHTXIRxPmSs/nklweviPMAA\n",
       "DqYM8iy6loGJ/STuDMkYKnWEzYeAjvjwFK1HEfU1IhEoWSrJxZIDASiOuiXnhfoDMZtV5ImT5bA/\n",
       "D+6K0wIteq6kKXqc2TdVaPuPmHu3fd6s8i7/g4GNgwYnd2pdLsNmtDRrsTwtNgvi0NiRy0RuNOI4\n",
       "815bckSjdLBFzBKWh4s552vofvt01wn1cueumFzXEzbRm2mIm+tf3Q9z/fv9pz196AGK8Aezi8hI\n",
       "6bPA+kgM0Atvuzg7pfN2+LBkwwd/xhqTA0lniGY7t3N3OXKM/R6kVcYHKEEkuMhc+kpqo0p6rHpA\n",
       "QgayMo42StGU+qjZlouI9VYuwkjafvRO6vqUs+SKGZq4SEyhvqx9povU2BUsoFBlOggkAr/lNOe7\n",
       "Occ5QsfBe7zTjBkAUxSrZnezPH9jzImlXM57oE+ssoQVPYOKnzt7FPE8qJ12OTPM+Koz8Erdc/Qz\n",
       "sRL3y88Nm0jM7BDQUG2L+A6ddX6YzVqfG73D58ptbhthV+YhxLnvS5FKEs49qrvTEo31r0Ne9nJ1\n",
       "YM/iyNYdwaoeMxTXt12s+dvSIV0u6rHNz4PaWNvbAVxlK4x3JPHjW32/fkZUwukHOGzdsP1/EWtX\n",
       "tOReDE9KS94+BNGVTZm+kUM0wVZj82U/OiiWI39Gx9OeLOSDeOPyuVSVVxfagXjzRHDJ2zX6oeF/\n",
       "saXnmg5mf+lirO52ezY610ffNjUQLSaIV0UTmXukcraw833nrCzF/kfjdIwFhoARJDyh8Ro0lpM3\n",
       "GjdaDPA0rhvKgSG/lutTWvm91/XKmJ/WgUNklBr63/c++W2qaCNZHRrbgxpDO44yz8NaM3Kpeaaa\n",
       "XxBlYKS8kd0lxaMylZu1eZRDfJUGqziIxM8MJMoYwrRKn1Ws39+M6+ndm5dS0a7xCwqwwyEilwmI\n",
       "8gGPEkBFGf/n68pdTKuEnrokcAIuNIIA4WIGD8ugUce4eo4acwmjzPy9mFtxDtnt27yZ47QVgplA\n",
       "AhsLh323vareoBgG2uJ4NEJrhCQaJS7OMncPCMV2TuMRCUT62vT6PIz6lect0Rmb11XVkMX5Ad5V\n",
       "sFuI/u8PRITi8Oc//O+gZfS47kd72Ibtb6lOznAPdxERX7Oyc81/NziTipSwjTW4N4AIzZ/jccpX\n",
       "Yd1elbRQITapSsDH+0dfs0bb7FS5Ujsb4b17MYs7VJUAwEhRRBYxJeIRPb9RRkiB9yLuEBr3KpV/\n",
       "SJ3UMbQuU8MdjV6+RHXlOVqff2KLbBLkdqBhj8YhXDqVUEcLfmtmNo8g6uCoyCKenFJVjqLlQLDV\n",
       "Fb0ARW6uj1zQp54zTzsFRA7uM9BP1UbRGTa3vB07r9TxV6kgJAIOMJgb8fOpcWelMBpUCXADZQoG\n",
       "H/Syy9Np6c7QNyLG2KxetCgJmxMsK70IVzsN38Ef/I928hromksR9AgGkJtkvTltLF3h2M4vwWTB\n",
       "xOld0EF0X12Lu+o1+ylH0JFnUdLbbPsd9f/CC4AB/5IVAKW5gPHzz26yde8tcoGq4MdlAeQBnsTD\n",
       "8xZIeEkYfLoX1WEdTtmaxLDwxVbXiXR5cadPKAja0z5y0atun1+uqkAG+JDkEBaiHUGbXVxZG4ac\n",
       "/FZMOsPTXUE9oheHkHvtL9Sc/KWznAs4hGFoFyPmmqt6ySFVxwH6jVRcIabt3zpZCc7Se+9xj4Gg\n",
       "xeZpFVq0sx0y4CJNS2uq0V4gTRXivcbKzvYXVSTjXhpYbLx+C/WyDU9nrjk2GK8IRlhCrgWcX8g/\n",
       "qdxIklL9UBBMQHBFLG5hxHvjFlaU8lplDhedMUY51qklUcUUmCMlZvl4Wg2w5tx9urbXY+BPDC+O\n",
       "H6R7z1u6Zw/rX2N+QUUkhFDNP1UVN6sAvfCvT5P44MSlwCZ0uv/WBQYnvWVcfxQucBox7hdQKwCf\n",
       "izvX0TWB4mKYPk8kwPfzb2+reeURqOBwFoPr/EOgYJbjpO7ptugM1QhtDRzAP9M/icz1JuLGnv9m\n",
       "GgTzBb85FzVei6Wzg97ZW9uQiZmtH75a8AFze7c93vV1UtOGzHu14H6s6NUV5zNT5plHzRowPwAP\n",
       "XiQLzuBx8poWBztlMCruJ4jIkzMI+HPlcvH1rgJ62kAh1JDUqXNxl8BbHVCrnAohydwrtBLWQtLP\n",
       "t73EyCpmRIShv84V2yF8xnYhGX+lnyX1GkYzNu+waSGPOgAxIPPaZy9RyFOFXgNHvrq5bxB1Bc8V\n",
       "DLegANUHhrv+ybMcrqObCzhJuily9DaZZHJYclnJSKFmUICj/8GnpG65vlfv/U22nWjzzFz0z9I1\n",
       "OjBQy8se+kY5snQywsdwg3IPmmS2JKkC4BPlpQHHRBNb6al+XbSwRdUNkozJSJU8O2ZRn0jiajR1\n",
       "UErB+by719sfUFkhvPKeYRRoJQjQhq9uuAz8+J+tf7iYpeOaEbXrfBUrQt0tPoPCsAciY/Frxss0\n",
       "YkVcFPiu9v9NvBroxH0BsS94ZFyH9p+Aznk7xEQCa9sXxdvJG2DzLVrU55ZkI0PNa2CfTfy9H1kH\n",
       "e/OKhWltzstqhFsbokLkqFQXZFiozg5/k9RrFoR3AWGjwgEzYEIWOoFubaeDTWRbWDzWDZmvbbQ7\n",
       "Zqq77CrlTmTmV8vqscU+WNPCdmoXGH+Ws+1OCBC1u3ntQxIuWsHY3QsJzgH/Zvce9YAfCNxFM283\n",
       "MJrXqUA79GgeV/NCX8mj13hmx7A2CuQz/OQhSaYcfQOf2Hx5cLbQPoYvNsKzfAtRubutO7WkM3MK\n",
       "y+Xsq6WvO8D2J+piJYZP7brcU4XSkEgXD5MVOAz4Sc2w1dnBMbl0VUGRbgZZibE6+RAkaGH2lAL0\n",
       "AYERBiWnLZeL90n9uzxAozzHd59jyTjBMGh0kxDd4uLAFKdPpysKPGN2xbWJioaYoJG94acwHeVZ\n",
       "q89+kRaM8NOzVj+et82UJIJp0dU8IKu0v1HHBkjmdTcNjBsuC9VBUkaroRvv78YCOVaWKJl2wEZA\n",
       "c3iEPkIfRuMvCdSxa47zeQMB/gE1LwijzmjsHdxkYS88/U4VU/PMBAXKZb3dD/GEx6E05+h2zCiN\n",
       "KiNqeX8uTdGYsF1IsWjMOfkUuCEXv2Ks5w60UNggfwUgr6YrD6a37Phh5wvnHOAncAB8bmia42kM\n",
       "Z60moW0nZlO/8Vdb2wcBg+Lbul3D5u/ADNcrcZtdxOOEm4/Ey8VX7QFzuiTiJTkN2nvFNKNyFv/s\n",
       "uC3F2CrkUEYv6Dx/SRY/SydLK5mDnuTtth1SfoIpW5tFn7cjsHxFoyRLdQJGEI2p8SIp8GIxOnwT\n",
       "0HQWvNElCZSsmtipvsdm+7seOuQzNCrZDb4k6SnO41O4FGdM+/t7jcO0fXxObk+MbGT57Gj4xXIz\n",
       "ME/a9bp0vVnW6Eo+QB64kmU0zbwi918H0hnk1AQO2/y9u2Zts1hC0rWqqGlOAWbqiXgGQfW3eSHf\n",
       "54OR+eep8yNcf5QAEV3O+5KN+JCKjX/C3jSUW4SRqz3h5MPWlHN/pMOXh9q/H1Qkmo1bHvT5kbDn\n",
       "ths1uw5PyGdeAdBDUcHDwcKXvJAo+96k9amEKdq2lh8XSANtHGOUGJfGp0p9LpnCUbwfYFnvVk/j\n",
       "0PrpFImLHIVutx2rM6GUIQ70WtqQnVImtoWlqlplXFSHCqA4U6lJsLwC70ATGMtCXZjcdF4yl5gy\n",
       "5tB+K0xtETeidt4U+1CVkWeaiC5eD/1pSjxwdoO5KD85tyTgSoLCrCZR/6wYw557EH01QabjXqb4\n",
       "irdlha67WAUFzLu/mRkRJRC/PglIV8laWEjXX66WwPBIUEx7eg+gv3r0TUyfgr7DsEHxPbOHQ/Zc\n",
       "u5TRUH7LF3gN8TR9frMLlrs7lQYvIDeGOclHK+ixsHd5kxOw5/d9CMtPM3ZfSe2kRyNGuwRKHHMz\n",
       "/gUvgvWhU0SLqrKBeV7jaWnVELLZXqwQEY61x03TZm/OP8fMYA8DXITYpTzyFagWMeeLfjuCmSWS\n",
       "oLhTjJJ/U21sMk3TDpVxpu0865371VW2586g0NnYKaHocJ3xs7J6PiuEZxPAk8fYWrAOYR9R1GdL\n",
       "xWIHu6dycfGm8XamEr+8pQdp6gOC6nCsKzpYAB79/GFtQwKlD6I46UhIBQ7loGFrYrhkZ8NX5vRK\n",
       "ZL8Xf8CI/D/1vXz9vbbpjliYfLq3VVPAAIUAwvPjFW8fWbfW+r8VFs9ubdfK03qEpgqBAipiKGfQ\n",
       "Uyt4tV2OzVmoGfoEyLC0UXlG8CgIqvBmOXKq/8Z50hhOrbcCkLle4BC9vcQpQj0McuVCasRMO+p5\n",
       "bNAFV7S9bs30+Cn+72YO2S8jVneI/0V2I/6oIRYRF5Yv17Urr/K4assVsStX+w5eKVRUsGS6uyW5\n",
       "Go7puyaxbLaBgtAD8umMud3dbqy6E9W4zLnNqkweqfgdkQLKFAbV3X2l4kQlP6abGOK/8efiMPuh\n",
       "x433zN1bCvKR7XzeY+fzEPZyRjWQo4zrRgQRoY4reIO2O7Si2LalRIt5bNgJpMlBR11NeKM1unwp\n",
       "67OfUzp7c51rhSuXEkQWS8HUoFrXsry7ISM/uOLr991IgtLP0lpoPKnO86jcjiAR6R5Nje+6pDTG\n",
       "jxQi7Wddsj1dGVUe8T8AdfaPGNtvlxDXxqOEL/dKmHgr2wkPg0GQ7nsTvrxAj6ZtIBe6OOsrRMK8\n",
       "M8DXLMsP3yw5knPm//mnGR0qOVuB3qnuRLCaujiEyDi/df2ss2UudKAUs6PaI2HeIwrIsH4Q1FbV\n",
       "MjWO2LjsNL2fSmLqCYAxfXe2KrZSFbLe7I/8CIPOmb6CWQILf1zMLQEBEoAb6wUgHPDGKSi/B2JR\n",
       "zY1cf60jEC1W5Qksy63jx3TMGlUDRpl8Uci260MY0xcN6KYUPdKTyu22crWFBRRp6Upa4VzJzrsp\n",
       "8xs3JUTVyI0mlKxGIoXfaJ2vXgZBAAGbjQ5BXzh4Tx6eXBsJ/cf9a821alQVjEjp//p6R5tSM5vJ\n",
       "Z4T5fsRz57g3NetFu8iO81eHw8FL6ABUyoq16Mrk6bOsFgYjCX/Mvy1pz5jj1Pv0m4Xr4UiilSLi\n",
       "NOmf2mSbejeUSljM4hm80rk9QtzOhoL5grVnRPv6WNuYfoEfe/uhrM4HDJbjUxE0vuKZDqw9CpwK\n",
       "Xo8cNb80mdMIOLfm1/0EbfatvoKem97C2qBPbaA2Y8cMOhwzuc0UoLhSyml4XLWSw/8B+bsmhJR1\n",
       "9fT7i3UwlGNNNBtM7e/VNrFw+eZI9earSwFqi+c51o9cBdgHuzPUcCj8eQxyLmnRRxUQ7pZ661KP\n",
       "n3PID1OWL1NUTLCcg2p76Tsk/Zg0l1HU6bnBTFW/TB+011nGgXbN3d9oi0rHuFj3vg7cvaboVTb6\n",
       "SLECuEKnt9FcbNcxReiGKAB7fmJfiVlENQ+iSbb7sOJchQYhOMB6n/Kvdnrf6K6Mga5n9f2B7XIN\n",
       "XhrU5YiXz9BKZQKA1yvfyunMPqks2kg+LZgv5A68j8m/r9PuC1kSl9K5zJSpiTW4YF7p7eHG17DV\n",
       "iT2O3cx2uZeBzuB61Cth08UssehgyrGQXhro1nGMVCY1itoG/5FD7IkR1HqGAl+wlN2/h8xR+p9n\n",
       "a71r3s29BzBT/Q+2Syt0bnyle9Q9Em0SsOmUZKAcELmyzd6DjGVENBdtmAgHMIBUEn0KREn2XQGg\n",
       "5AyRRkcD0196ink+Axui1BvBvOiCPh42JLz7VhyzQDJzZRxMh1hGTjGa+ceTmB7BKMI5xAzcO1m8\n",
       "kKQZRix02yWb7U3FVxLKFnXxuzBFHsYJCzdI6ofqsolSl2OroqctPs0OPYr4ptoNJaPig7OSI72p\n",
       "SIzTuP2NcoeN7lTS3AAD4sG3N/fgyACYEX3jgeAXbMNj48K97JOyX52eGY4AF5Owm9eN/QNRD/77\n",
       "b1cfUV7eA683aM4qhrc5lsABaOVMTZSCkJTJGYSN3wc8r7V3N8VH3XhvoILAIylUCJLFjOaCGA3n\n",
       "3WgHv7cLbOREsCdtMSBE8ek0sq8F35WHzXX/S2omiAvHNH4DSJWOZ9yph6/N8fUKoVifr1+4Vrnr\n",
       "LSdNLrIhXnEr7t2UzS3DCDB6R9uqSy5Tufvk7KI2l2rN5ArHNpoft9H8JvSjOIOx8aEM70TimTRI\n",
       "ETXnu6KFRPGopefYfLxhSQZC1FgZ1F7+oajZgcMtH18f4+P9hDWSIr8W9T8eV9IqIEbIOnnjEimU\n",
       "4xKifEhjUptdaX7h6hcq7tVuACzDFxTAbi7aCTVKXHHvpjAQ2+v7sZEX05YqDrR3aq9fID5yn4uF\n",
       "evU7htA4AHHk/LXXq9ZoLWPLC1rosn9pJ9IDBx8ljZDqqOS5MotZ3i4Pwa/bPxA/AENDQrXt9e4y\n",
       "XW+0BQ/mm+rPZov5QWGoiDVuLPU9nba7mwkCblOumT/hZSOjMylq7FB8SS/iM98vWnuAvwhTYuQx\n",
       "lxDVEK/E0bQit/z5/tP/pEeaomvaeSF6TFUfO86zc6lX553ukjAnH52e6WnpwyKuTnYavzSARHjw\n",
       "oBZ7vgC3zltk8GVNBZPIw/dJHrTzPfbur5R7Xo3pyCW3BGGgCoUkBbaoAchvJBLld/G/iS93NDx1\n",
       "+SohiVxnoCR5ZyPGXMJ48uDHSw7Ok3A9tuXWh+2Aw1eimWo5YyzLNviRbZ8dkK0ALZf0P9q173Ap\n",
       "RSvzMw2fE96yy16Wj1XXCJSPRwz29lLUICnRZ3EK9W3qjOqsV87BZF33frOYyFh7oTCOq6psgEbt\n",
       "J/DXxiupaWZg2hhZ1CeUS27nI5c5CeQEKrEWVQyNReDH+OlbMt2b2Uu9EcA0MUB18d6T4a6v3xmK\n",
       "8Vf0UU8MPOu2JP6jNOKZWB4YbUpqoxg11XyFDQcnaIbbOgfwWdaYh3KEjbLCLEqihD54J9PUQbqt\n",
       "nUSrDi51mihDGx/sdryPiRPY0N/sxd7iP3QT7OsM282EUYM7SIxxbrWZyjhabQ3F9vdaOAmEPjPX\n",
       "Orx9FmDC2QBXzVjnbCapVlNXkd4ZycT0X9Ol2zlTfCzOqWzAWmFLgQ9H6IV/26KGoqhBxNUFdr+4\n",
       "D0Rm++5cPwY6x7S98rLCBKJRTuuGRWkA+ZxOGll7h4oWxHkL5AMnQ7HAcCsrEBZ2+sO13vWtd760\n",
       "fQmaGUtnoVXbUAiuxq0Gs44Kf1Tbyw+sXwnUc3DvfNEGRtdoSexM2zfvUhxR8TjqbLGnl30Q9qoq\n",
       "hWWsUZd/50wYVVjmjVUwzzOi5+X5tab4LZ3QSBxUAaZlBRD8zoxn3UudxkPZ+zwC2YlwOb5zfhwr\n",
       "0tYsf8fViSCQH0aF8P/WNm8xl+jMYpqBjFHm3+tCqjyeOofBs1OEGUr6i1WfTTqOz2x+bxgQHeVb\n",
       "m3UmusQh2QNhGDtIfDAy8v+0zprbi5WxVVB2rXxoVLp/yJZcrZmkvM/G16hKbvkr/E8cNimlRnwd\n",
       "/B4H/L6GKQk/zo4xkYdnk6hh8krpWxp4rPxbmSvbPrJlyHrrGfS+apLPQXFVOk44ZSqAzBnXfhHl\n",
       "fl9b9igg4TBvXhdUB6qoVU1MK0WKVhtJoj5eXd6NxTjJD1G7J1tzdCX9rp4Xpn/23FdAFMemywVA\n",
       "TvhrkRYSLHNfFG9gKctsSumZOu1K0KkCXCEjW2+MeFa58Lja2I0da43AxwaY0WIh0w8m5lS7qigR\n",
       "OsKT3KgW2l73faAi9gppeQ8PdAsEugluUGNu0fVr52hIyYxKia5hHz8M6wCDYG4AC3ey5xy9ziz8\n",
       "WgD0fDRyC86KYl1LjWMqgBBBKQ08fjBOEawgRs2PxSOeXdspuqXllyvzo/SaXCd733zHIefx5X0p\n",
       "SME639+eddAgfFDYgj/HGMHLkG7HibMjgVZ7EZvypxEY9llgZVfMuBP5/NGLbYAqQ5KbHM7HF1P6\n",
       "6Lb6WwcHhbFz6Rorlmmwal0uAEDB/lVNgqCpkdW6wzw9re2n2mO2/nqO+fi8+yL7sHmKEsM4AN7O\n",
       "nmqT09zi7DclkcBUFdrL6OceW55Fy1mWD3UhZ4LRcK1DEwc6MAaZKpx837bxpOT19qP0PU8+ZmRf\n",
       "3t3cightC0BCKfs1ENndtyXvsb2q1mSdivoAMBqG+uHu7WfZLtfc+va8nM6AAl3T95MTiPUQ3deh\n",
       "ReEWU/obbL8hfec3K3Zu77CmnkZaPIS0X7CDs/2SbRB3uipSO1gfhYeovO8bMGhRqThNC1nM9tJB\n",
       "83atYFdnRrQKwm3NJ6n8nOtfnctwA1D/WKpMt4OzRHEtc6Oz/ZM2Mdkk3Hw5pBJasLDRz90UW4ZR\n",
       "pM841n6R+/VHYHdj8lE3usgz74f7mxB/My13YgTKqqn48H0Vfn6fLOdoVA+KK+aLLJOMZfji1XQF\n",
       "bfAuBGm0Sik/wIP5NZVbem5XCI8npNIJTD+FA7BvVyBO2/k9xCj1x2EIQkiU4FqcJcXd0P6sgV5o\n",
       "D9V3nyMIurdilzXJEweuZXqe+DZVGpoyG2BQBR2a8Fye/P+Pe4l9zU5QiZpkREM1h1JJqLWg/pF2\n",
       "hFW4r/lKi48ocyCgBNrCf4ly+k3kqK9AW3ZDvP6gveFahdL3HaHNBCZACoej4wgxYodMDAS8JUXU\n",
       "jQUfFQsBY1Re107DHySDwcbD9v+A82qxwU4VOEqI4RBJ0lrwR6jhor9Sx6bA/VKoiKzHP4f4Kh4M\n",
       "rzaTkE2jDXvqfoI1i7d4D+ZElRN0ZAq0EwsogFhX/u198EerY/+jPKKVQgMT9Nb+u7MLx6yBAL45\n",
       "7eUwx4S7gzn7WncCNL49V/B311+GE1ajft0QPpaZ4JRyKvNetnldTGbZvBU/Z5J24nNEWvkVvyvx\n",
       "K/oWEt5F/oYlpZGeErCpuxud/rnynf1tGU9+AJMGSqa2m7DmxFVmv3JK8hs9raiRlvkcztKhwE4J\n",
       "HFWkc6/B9NuJKU3aERNd4KHDt8EEROXkrK2ZbI8Bx7LjgSJH0QLAv3KS0CxVogug934deedDkSQX\n",
       "6eFhmpAVqEY/qbMkTTYWniYlR0Qa9ZIM2aevnbPBiTlaLdvqhRep7jOlHjCPTqMzD0LPYBz+/uQi\n",
       "p1fY6xgvX2Cv+fcj0V+cvITDTGSEwSs0FEUwpuaMR1/cJeXBk3CTiy2l70AdHz/9nqbN3qYXSLrI\n",
       "NNbXJaH2EYglNg8FrQxCttfL3o7U4efzP8FLHcjEGZAklmOII6/gOvqxwvQV650AX3C5AzEG3crG\n",
       "tyy+xKqFbNm+GX9lesjppVTR5pAesVBLTyiBnnblKjzzRH+kpeNfHzSJ8Cw6mSNna6clROikSysW\n",
       "CF0c4+katmkn4ENALXbY7HbOLMm4bGqeG5Dayu+JhSXIJIEzPjfk0VWEB58vkjaxv6UQWkihERvX\n",
       "qvvFtZnH3pAT/uiDp2Mob+5tZA80/tT1xdheTA1aIF2k5/EX1l7KZPHyyKUQfPu29zKJ5f8Ymo2/\n",
       "kJ2yYOJySWOHO40cs+aXj1EidNTBzWC0m9EgZy4cvAaf09KWyaqFNRMR4UVJhlyuJcAhhhGqCtPY\n",
       "GuJ6aD6UCowQ8am6b3ftYP/eAz3IreKSqWyfWOahDxVQk9eGfe1BItZMpDCbihXCpQvzGM/CfdoJ\n",
       "U3f5/p8Uto83wx2vwStHnsN7MUipl9Mp6xTZIUvdGYoE0PbEXpzCNBX4pOvqCD4GtnUptVYLrrye\n",
       "xxSM+ogENyfXnOTpW+5Z1I8T10PFVo5AaQoZwMMYfcGa4ROHFepQsIeT8TWRdIshVi3TA7B0KdCF\n",
       "VR+xWZonyXI68c8EqzWxKUNMZe8S9wyWPPlIXm/RqQBXd2kp4wUDdOvLXfVV/ndT4/NZmhhRhr5a\n",
       "VayPLYSbRvQnHM3qqhUnIEgZrwyIHjlxF9Lxw+v+ENCBRaGgz3LL8HAxcv19x7qIAMQisAWOUXcc\n",
       "JrWGFXVYbLv/KFSKIpFkNE7mXAXBsIgZaijfSDWvTk6XjQRnO8mvxt9DzufGjZjGjVwiXT2VoRxr\n",
       "DzJAblsAXk926asO6w1Z04JoIIO29UGKwcsKvOcfZ1JV5Qwfj/1mpywJmhT7ymTK8GKZ0A0PatwF\n",
       "P4bqmd3pAUINIM4dJ/lgtbPrkQ6PBbY8V9YOZlP/K3NRC4aNTk1A+rtuITuZ1gOp/FOAkxCzx7xl\n",
       "F/kMhMSUEdiotO11sEWiYa3wFAJJLSpm8TwTX/EDFTxAjImwvBQ7KNrglUy36mBq60EHyFhALcOt\n",
       "jz9wWz4fQd9iE4zfP9PterchVzFM6XaNuYJbbIVNDxLHV4e3/x09MesXdZcTj/yS7vM0bguP+ZJ8\n",
       "MzEk1Z6V3eAsi5Y89Wz3LFg1UVOWtMyrSes8CipswqUHKfFoQRPRD+3sDYzzfW8SV9hzhgVLyszy\n",
       "BREGr7PI3UeyJ/zfS5aqcpFX81Mob4I0ovQrXffOrO6NCC3D9aemoHIM/wtRyuBBWgKoY6Ik59wV\n",
       "F0TDc7WH6kKDX/I79CsI0BkbHt4JEvdoM5/A0lLNmJnX3ynqRZzmtqwldMcybdTKhXYNTWhMCMz7\n",
       "szAxcH5/76PKCyyo7VYAiToZ3d5CI+9IppqtIjwgEH1h9A+0R8ubiC+jQ3TTs+Z9S1MfBXMKui5N\n",
       "oN+DM8u7Km/R4MVUqKoQqHnMJSUcdyNBkBqiPFqwP/tmbuPrQeB6h4Ed5wE1xhlf80u6qZNy1iEO\n",
       "JLY5vxInV9/OJMHVx11DLDIY8RHXRameiq9kPcKf4uLwoDKCn6BJUiNf2jr8LoYfAL9+3uujUOES\n",
       "Y2skSf/8yYH8p3pQR/k4ZhTrQP9xKmIe0dt1T2/LPGy675XHcLemEewRsbOWBhMurtkf4lXzfWXE\n",
       "GT9UW/wuVZ8w7bCeObkApya6nzGYRSJzGX27DWWeCVN9KASPyAMC6G7w4dZu/LWLHR3fJlFuhL3o\n",
       "rSmAKfPfLxH1T3T3X8VJLXQSrkiSknO1DpHk8T+lGk8vliwYY/j0zpYxxxuvktggfyhHSTqTkmyt\n",
       "fiToakD+QkUMidQKUquAJ1kFhtBLZxCq61zD8yS3GBPjPRXKb0sBRkXsfGyZz+N6YW21KdAOQP/U\n",
       "oykFphqaa9qYnsrRWMAHZpBYrfU8H8k7a8lqPfgGvJMcLt4jmO/27wVZ+nwgcbbgRjrg7q9eGQTg\n",
       "5/0FEd5EpxkhNqhkD37zu1N9hpGy3U6AyWi2dAIqOCF9R9ScDMdcwY8FXoTyDPZwxOP+qSagw7wi\n",
       "upNQAWdiEPzWSkr/LjT/O/8YWx1Lx67uz2i/AY1+HFVllTM0IwyPApDSIgdInofEdEq29lqBcd5G\n",
       "WHTcmbYeZUFRnYji4fAWVARGQjt0lpIIvQAKXw4mvvnNR/M3OjZTmYvMv/54X03TegeC/ts7iKvT\n",
       "ePVbd8mNGSDwveB+HWQQQvTST2MgAAVCz/ooaE4KtEs0amAAAcu6RDT8DKxIAbeXEWzKg+NDQ7S3\n",
       "IUu8TM+q0TMo+4wQKZssx1iuNtHTLwmfqQjM8P4W1bsyqUDw7OWLB6WCK3sXlNyHfKZRhy2T76dS\n",
       "MHDmthJYIwpFS8Cu1DKKbYmCeTqenvDUxDcLdlB4NtXLbgBnz4HBbRQYK1krOTTIRVSb4PqAf6Vn\n",
       "kBMWYtVZ78K/njSDJvbRm0Y44JzXeGkOpxh7Jl0Qz0Hp+H4XGNmPf0nqlLmRaSeUpdsbtysibm0d\n",
       "O6W0F3aKeEpcW5V99wN2PqISzZwVXvzQiY5oCSIIP/VX4RwwPFgTql6AKaLh00oEgsj3/UD5xnxM\n",
       "ttgumFr8TIKf7YriYUxaLYVOsQBGYvpJg8YO6VCRkFLHHP3ilX6URR+TZkJij4ogIybaAIfPf6aR\n",
       "WmJ3A1H4JJoTOVZDSPPIAvLgL87mQh4OTbU/gtagcazgVfWM5tKdJiF3iao/0rLgOi9L/wTDvC1R\n",
       "TL5LZHAPLN7FvvqRUWdeSHuB5/7n/ERmFiZQFlouOtdkVUrbO21lBESdq6UHQc8TBoNUzFkWk+Sa\n",
       "69iCOBg/KtC34ISDosJBE9fhzjELLXsPrth0jHnnorS54JqfBdcxe16Fua3IPRfy5FiT3PiDGRim\n",
       "Q1BLGdx/BZKF4ys4W9CtNA/efkw3SNI0qaoycxPDqktxp55vs0CzWLBFUjjrvxbDzhVGculXn/V9\n",
       "ekFr+ufW2/7gOjHGput1vaN+gc5XmJsVKAyZhvkLhUPb61UBMWtg1Hb+jVF+53Sp9mPuee4Knu/0\n",
       "nwcmDgNPRr7luFUT1yYuPhU8ixXxht+1zhVDQnF95m10qaa/KcUvSEigG9XCFvjQJdtdDZbIXfdG\n",
       "RWePkeyKLxI+NGjv4e4nBcbWTZ4FeJCFzSpNe1OrLDZU080Cg36UHcEIb4VmrC2We/dvqn08S0C3\n",
       "5QralKDHM8MJdTdTBtoiQKlchlNLfLgMpCdKkmx1e2dUkZdEDgERv7ZnR40yurSXMiTEsmRRSCjZ\n",
       "iz/tPJPHjb0lVMmbOvevbltvPs9jb2tWfiPVdy/duyxfbEVBlpRyQYUI/8YYvkAYWS0kRR/sFO56\n",
       "CJ65MBu2e5IuO/xUppgFus/EiCW8olL/h1YhdJtVi7eymjNtAN7lef3JcljJh8WZ+XAMOTPX47H6\n",
       "ikI4t0J48LC4Sn56vCj4llYD5YuC7GP3UjMjyOJQiS5/pcj85YN1Kr7H78Ew3cf8bGsYss0vIQzQ\n",
       "nXP5GUQaGFZda4y1NzZi25xZ098OhEg8AjWfaYwH/eq/v6raz33uQ7FLT/NhqN1q+7HMb9pLINTP\n",
       "tDSSZ5v9YX+Obd4+UMyzNXjakxEcBDN+XuHu0WSmCow1nFw90/uG5gcgePn4SQAoAwib8NB0dV2G\n",
       "M/YMGrZBHx6fgppJyMkOdjYItkyxhNn5aYExtv7v8z0MeOCUW18hw0F8SVgen/7bjz2zRga3jpNb\n",
       "3feX0/RN7Gu1gYW67RQQsv5BBa1Q4NyIfvhbw2FhUagG6DJb5g6fhU+5D4bIbqwSR5UXitOyqI4d\n",
       "ZEGL5yBjZ0cGvWhG48fsLmrVG0GxSmVqHFMrHBTBSQWQamCjlxw7/y6lxzxvlG8uJIHSfqZyqjZ4\n",
       "ONHebr431SCR4JIcFFAEUiFo6iXjNZafDGwZGUzC7yhOcq14ZEGdYwKsGyHWAQuLaRKUepMeoQAA\n",
       "AwOky9AJ3poFvp8ASlet9z/VJ3jmeJEJZwtEH2BhCrXw9GQZgJaheHe7bEmajy6DjHmBjkb1gALQ\n",
       "u0tvMGMYyxuEjfZa8D+q2KBs/Evm8wAxCoF9e3V5fQFdwGLlL02LeMz5DmSawAufT+v2vqILU7yH\n",
       "oNsFjwXha+an2jAiJx5Mx9mVQwEDhB16nSWNS2BDwh3dIf6w1NkH3o3/omaUtUjzfiltfYtiUgvP\n",
       "KUJorlVVabzLk9aiUvFSish1z/7yBTch8mqpaoLqJU0uilMKTHmnMkj4jc5U9toBqJIRQDQ5MdUY\n",
       "Jl9g0RIgO5rx55mJEjNnIv5a28/r+BtvUzmxqdOLjp0/0/k6VJuFAhk83SSqc+ZhAJZZBk7IztO4\n",
       "jSYX4CimfUl3gO8cB1JA6JdPf5MMzNttTU1tsMZxbSPSc8f1PUEXOxwFw0M/wjUp9OJ+4iaMFd0F\n",
       "8KzE+tJpKCfE4/gzOTuy7/UC1oLJ/V+Djhf++vtBCXq/0gf1yl2G/kncZLHIQIdjZCe4PsPBUAcy\n",
       "ZEqFj0YaJxU00drdjQj5sareuXh8xMMu4vQ7NYG/qND7OX8aN4Vz0oRTKbnGZTpiOvZ2hAeHgxAA\n",
       "vHwTS0ow+SIAr3tYvgL/flRlHSi/wjcbsyN+oPFrSElDcj67A1scfz1aRYUiJm3lIu+q+vOGNSDd\n",
       "6wnapSASX/MdqGjUf8UwCLMUQ4sjs7HdWwR602HmnpbZ/erkf1VR3SecrZt1l24/Rbe6qEfYCaS2\n",
       "KbvwjDWJ8+naBwFquloV0rDKw9XEpulj+AXlqEP/FU0U7JVchii8eYcNTUUmTWVlNhiQp8XCNTBN\n",
       "WppAEbsozbZc8xp4uD6zGPrjgT0jjddb2PPZD576u4rECbCpCl0aeIC6leWLX07mRY7NtcZ3m4oH\n",
       "a/G8wregBXHPwbkKtWLRKyIccLpPDfqmqbeJejQo7pEnX6pB0V+KXEom/2rs3onzDsDOyJiGxNah\n",
       "iJlVQf9KnwykwKmY7wG0Bul/8dwkuM6jk4NquI3k7MAIZPXwmQIm+NoF6vKK8atNLVn4RnP/8umm\n",
       "zLjr+Q5wzZU5ttmWSRRDcIyaXCPX6q9w++0f57gayLuKeC7e8JnUQ383PxAEVp4sfEaVrhzJtmeg\n",
       "A9E/7u+YEQcT1yHdapwar9cyYvLp6SpXU9R2kvvue7WVfsSAPFtmE59Sj6/cgeYCZDARigzlboTG\n",
       "GAS3rkIbQ4vs++Q1Q9w/UPND6/vI6PL4TaSy/g8yGOo/f+YmNmQg7x55WVPhhLeHFH/7jn3dXHbu\n",
       "zW2BeC9a66ZwXBZoT++s1HPV9cqmX+qI6Qk7xFpazcBLjfpJh7Ei9PIfzJINznyfLDDbGbJcAEsl\n",
       "MwXfHX04LMy7fRwmt1bOjdPjp1U7bHpiDjVvneJo34pncVyB3nqTM6MfCzc5/pc0rMwD4wvSBj2F\n",
       "9ekZSbbn7CTcsED72xxbwRBw3rTsOgNktDmEnBXxhAAAAwC1nuy11asKvlEXRNeQ8te+oAxz34vU\n",
       "mlh0OJFfwGdwzrMgstDAvXtABNsoommBQXnO+mEoTgssSZjqaDt7Db0VRa0epQAm9R/qXvWOrkn/\n",
       "tX7dTTN3zSCIXB4KO5DcGaS/xjSM63BHxXf7wIcHyIHP7iCvxFthcubW0Eh1giUtNrPpVrEiObD8\n",
       "PDjLqXzAAjAzPwGUCXT/tPPGLdVvKieDmn704pR2oZk7/70YyWE2JToLr+nPA3/l3DT7F67uhXdQ\n",
       "Hk+meVcMB2yTuSzRKKcIOYy0C6YpEBM3fXciU6b2l+KxdCPzb9NL6LIMThTajf//IVkAqw2N+8YG\n",
       "6jg5aGOFfYSly7XKnEMwL/7T4VMbqRge6LNcwB9etZE0EhXMEMdLKlCS5B5Baeqnhc59h0WfFUH4\n",
       "FpN6Utfzl/az5g6qAMqRzJBtHlIFK/LQY2r5IbRzWqussMjwj1/DLX9loy7AzDZfX9SjoKMmf9Es\n",
       "vhBxc7m7mUNhbIb9vKCWrf4lunVPZ3PZrOlSsSueLWD3oBhbSXceSxnzdQFz1WheeO11WRIic2uT\n",
       "a0yisNsZVjM5zYNtYmNZfufnJptICzRLln4uGCwaL1oRkjK9rBeMlYzk2xINrr6MCAOi3KeUICwc\n",
       "ocKwAWzTovj52ckKiv2XS/hyvX7U1yHCxCt6ltwTUOnVN6crIVbAHLYQloHlSzWz2s35+zmgTd2R\n",
       "u+8/rlwFj/w6+S/7/GmIkEKHNS+NCYgVM/ywH55SkfJiOWrjIiyrcKF3PT2DnNyDB8BaW7tFG7Fb\n",
       "EfVC323Jmgfph0fIxWxni2C6HOttzj4vaHONm/LARQ2oq1zESr5iqOyF17UdmhSQ5QnKOc0gEgEA\n",
       "wduXq2k12bGPj1JW38g5s0e2Fvg59ySF2KDLGjHJdAHUaqT5I3JvFFmiF+vhfhd3AEqU+D0Vec4E\n",
       "2+MLPXI3JumEnt+QuP9RuKM5+DjiizddwYXUZ39fS+KnPIu847JHQujZ+pP8Xs3y/FxYenzk8PcF\n",
       "OyFNurA1dQeD/YfM7PKeL/TrFSP0ruEc1Zwu+IRTP4vToD4Z5GDPi6El9IYMaLGsBnmYjAOBbVmI\n",
       "fD7tYN8ZUSBGYy5wtkzZG89RnG9/v0X7XUfEIDidQiHdPhz9LqZyBGZx2NPf/9unnuYwQGjHTBC/\n",
       "6k//PkyjiVZO13gr6jSYqZgfeEzHcoew2pWZxqfwefToB17qAX1SpA/z7NerJwXFuCQrD0k9SNX+\n",
       "ccA9L/oEgzddl7OWudG7oIUPR3/6sD48AWGRnK4oFUIdQv/V8e/Gqm5gL1NgCp6w7v6+Qxa+vWY+\n",
       "w8qDWrpRElTZX/SBKU1afaQ27dr2GMMT8NdnIlU4qmjTRmeTlqO62+AL0lK87wjN6VmEc8pxKeQG\n",
       "tcp2GaDrIy7m7J5Oya0vfydR54pMF8vnhbQXW1GCKbPVS3d03zS1ltjreU1eO2jFJzxqfsKUA6Br\n",
       "EWwC2cw11YDoF0dcWAbCB+b3+8oxfWzLSdRBXG3pYSIFBVeH0sSG0WqGWZSNos1CgxbQyKM9Ir/1\n",
       "XgElVqVWFW68F6wny7InLg4y9+gSjO3IakGoq05s8Q1Rau4irQa4CMlz/gTQif+Nb/FphbmXjB1f\n",
       "Ken2qvmS6L6V2vQpEvk8orNyCUpKcCxpeXQAxPqqWGVY1JqtNdLDyCyBxZbvrHoBcGUTCP+W+TKi\n",
       "7RfM2aS8FE5uxXPdyL3oeTnHiX+1wzVlkrkvG2VocGz7hsSUozx4eip0w4E4ms+SG1S4+7uuJIyg\n",
       "HZXGasLpTdbh/aCJ9eT3DTMxxqLNZYCuq/o/ax2qe4EQqM6xFmwEKt8EylIwXOa48yMDjvqad4fD\n",
       "6VNY50nWDkS+Ad4UeLj42xHns4ZTQ+VDH6Q/M0uPpAu3x2NhzP5YPizWKO3uAd2kIaWf5incvEjt\n",
       "w5lHyXIkx78qMQnMNLkd0JrtYalFqS4lyQCuPhGeY7re7T2KjHp9zihi68gTdeuGpz+ry0kSqOTw\n",
       "LQDEJ1JaBtIlKnpYIGWvOxRgmGuNDKQkHYJEFe0mYcwXuTeK4UgrIVBSiJ8llrCYFrLRcZ0L1D4m\n",
       "YUZibEzgap9KdreSCjqh2w+40A66mTp90x/XC0meI17TDwUPH3H5IYT3gvm+oFrnnbqHiAdC1lUt\n",
       "a9OHiA2r/zMrJmcB/Prrnfb8yLFhYi8msLM9zTsOdS0DR55s5knlokE22/rQTOuQFEVVHXOdus56\n",
       "XVDVWqfqUrXG93mMuWQqOgAesRcb8q5K03WXPQTpNt+63u2PkYp+B1i/FITIghw4FOjVAIOacEXC\n",
       "k1Zxy9NNi4Is5v/Qt8Smr1uEukntvWti8CclwOnLerDkdROMU1XHtZkoXvvmkrWBSzMlZkG+ekt6\n",
       "U/wpaVgwOz9C2RSVkSI+mtlLp83zMlFjvA0Ock0wFcb0LZJcPmAhRn73xcNJPS9BZf/k6k/TNqr3\n",
       "8eBsf+SaNUbmptB8tMMTFC3s+WwkAMirjx3SD4y/oe44IgdzWWHIVH5uN88SZ5pX5qmQccaDkXCW\n",
       "0KgSFtoKyqDo7oiQ6GV+asS07zJMAu73jx6sfuHx+EyqApupBgJ6EtR3xoG34WXrAo8nAGGVqZFB\n",
       "48NxAX6BVzaKO2EQVOPfFBRjhCbAFMJcMqI9urZnNvI0Zk/IDcOdqopFopWUrz7JLNYAuhPjIJd4\n",
       "bBQLy0r6kSmlrtAXopukeuuWoK2HXpv5SblI8jrm9ZlH2JkuB+gs+kMrJ6JrCxJKbj/EE4dE7a+9\n",
       "MZoQa/OAhNmsfoAzrPzgX3azppI7KlIkIg2RnahoFAJk5+fdXqVOJax8DJg13oiSqpui+Qd5QKpU\n",
       "uw0zOrOS91smDDQ1ppcidqNBzYN5U1v2Upctf4BfGbhOilLH+MK/5ANaWwS2PRLFEclDIBdcNPx1\n",
       "Kab2I6CV/Zo17BsdjnAx3Mj2buEBW5HdZYMRLfmgzNpdEunKvjeqmQqmzv+Qt76mWhvbkNHT/Rh8\n",
       "lDy5t81Gut33r9z7JY92yKdvn8SE+ZCObdlTMN94SqDNpik/I+sCIxfcmtvEo4XqjUsOcwl3w/6b\n",
       "nvn9XV9Lx7Rgl/PTKpUWyVqFIakzBbqUUU+F4J5qJTPI8aEi62Nm77VH1K/ydPnckW3zCNY2+L+u\n",
       "0/NSe8eDzD3u7InlG9QMj/dC9mjxtcaBprq0FezR33ojVVMC4elcpmEDjEu4r7zWmAatfedgbEab\n",
       "2K1tdKjae+ii9ACKLLrpFwJux2ECf6UJ02S2G6joNLiUZp8JkOFHH7R+3PdP1Nv70P/k1+V433NG\n",
       "uvnT+u4x2mlxhd6I9rVrCtz+BB7fXuBUpUO5QG3im6Xt3JxkWBOa6XeEot6uS8GAmY2BBBx/9KIy\n",
       "fBdqZYe80UmLxqb6VWsIfvxil1fvc82tFUvfCyRLbWltQvoYs2FeXCFj1UMtTximxwdkxztoputc\n",
       "eXKTo+ETJhzlLawQitG+LPu/CDMnm2FH5DotQf9aKsdbGG2cxipGEjV4O7SC59F+jULHuyW3x6Bk\n",
       "m25l+bBner6tCsFrTvI/ANl5dhkedrehcktBWTt26ZbT/ihKaarEVJU0L9zCt9jJeFPkdFFFA8db\n",
       "z+Tp87ki2+aXd0gy7O1mBIz46W/VXroF+LCgQ/33srTGOZBrEopDypGTsT9/FUb1EtwAy4cDp2sK\n",
       "edk2JJSAJqsGiIc7Jv7/UiDUGUD6o7CV1ZHc3VJO9LuD7MBFX1Qfhtb4I88WRWKADQtjduevHoaP\n",
       "Ni+6zjs3Qj7b1DTLJpop6szpFyH5IM07WNaa8eeYQWg/+Xle3evqbU69ednwjo1PMzZLzxyVBj2v\n",
       "hlBcHW/llga6XMOo2PWxDIcrVBXEPfGpRiByyQcF6mnrzNDeski2ZEwPAYWi/rhHR/r/+x/4LPwg\n",
       "KaJpMBh7cmnxQ8AAuX0WMmBx3PKiVEq891HvoF49octNmo/w95nbgXgbp0NzM/yEZVTGKdFhDj8i\n",
       "lrXmTMIFxn9H96ubX98eFf5FQiO06y0KXbBXBsw47OPC6wP0g5zFApN/4vxGKjmcvX3KLHw1nuoZ\n",
       "uZ8RVat7xCPWeRr+KPNtTcKtqMmE1Rt/MvlwfIE0ha7daMda6KWA0bu6obiG36PZXC6QN+TVQUPP\n",
       "jPGZ/4Ov7ifzWoOqkswDU34AuwlEdcPVF1Qld2QHREAa5FvpCb9T/P2/CT1Bp1jWAKW7xmIG++Jq\n",
       "+4nrBZO/fv2yFN8jEZPuG0hrsYPcWHR76QRXG/iACrX9p+YyZMZrspjcq2SkwLrK3qQ+Sk/0iDPC\n",
       "YbWoDY2V1mNp0FRimdg+I6Mls2+PSptxmJ1HvavWM9bRZkMv10l0gU5mJspYl8eQELtBeGxLs6LJ\n",
       "1f0k/YOGzLEMOZuZ/J1Sw+mmxvSXWX8rrvwGNgOyDGGaDlTUJUJsVJj9GYtimsHyCwGJTPEbinOY\n",
       "8lTCC5RPWSAIYV3BFGLvsW8wZ8Pk2qbdIeBE6Ym8F56/D65sihgt1Da8pqdNT7KOvHkBHxOhVgJt\n",
       "f59vKgii26r0rXeWFqQbzlxIE8ogtUy+LtTnGhNAdU/4V7zFqlt3chVQZc4nIaXN7jwbStUlF7Ff\n",
       "xpfaR8DACDkXT8GZnPXahDEEUK9R3eAi52etsAgvhbx5NzMosyCF86v6KxN9VPrauo/EZgu+XOwj\n",
       "PYqE8IMa+ag1GGtfpNKF+s9Xw7t8mqFvJaMScSYjWNdpcU7pBVkuvkgmFb7XE00/GRvmHTdrmm+V\n",
       "efGdXxwwM3TFGdl+R8Ejr6KiV3O//2o8qgXrrWdn/OTiF8T3YYe6uf4dpC59PB3zMXKj1VgkJxBb\n",
       "hS1tASrgI0GSMALAWhs0zz1S1cXN/dpx13Qru3omVYv9z/hM16We19dTRd7GVdY1dBboQwL6H83v\n",
       "J+L5md2wt0nDBNZMEmyU+TAYn2MOjnD5/DT/9k11YSj3KH2fkSihq0ChocFGmeezK50HpSHHIl02\n",
       "l7C5btuh+4LKaE0j2ojdIxTjSs5fzTayXMivUlHkxIOescvfnqjtruMDEoEm+/OCJqYdKhF37gx2\n",
       "CNGNdlyWDLUfgP+Xmun40g34+u6vshmDAE9+IYHIXA/P69JSM9eO32gzIdrPbRYXviw8V+L6zTfe\n",
       "m/8UE4vCUg5Ns9wREqBcWKFQ6Wz/KyHK3olRb1iAO/244ljCpft0ojJ8F2pnwsrley+NTfSqzgKS\n",
       "FgIxxPwx4zs8WrmYVwjWltQvb74XrXAkCOfqGLHzYHPIJZrEcPhiZNrWsJcySbumE2Y1IlzwSGEt\n",
       "HCtq2qzu3mbvGpnMpbPu0kHxT9NGJshW9dOGoUcmbMr0lu0C+sL7tNWx0oijV7tk9HmLnMYQmx/+\n",
       "9LTr7y9hdpeN4RtlDrt78CCM88y7w4mtcrtgU0HM+RN93/r5xPS7RonttepJFJ3swI9Qhjzbu/iy\n",
       "+We/HoM4SI8QBwUZdx5Am17oDCb4OarpOcdHWQVVgUUyZA8x+SjbyfiDmSnaMHQvJzhxW5/09liW\n",
       "cbYFNdwe6BmzXG5BGqFMwTFYSTDah5bOjYDnAlnPcG1h9eanw2sjkbC7aOUatou1zfFq4VdwXmoG\n",
       "zVUP9fU0qq+9gIpshCJ9/GWTRpoKWskCylVYiCMwXGw00n6lX1TggguF9R9P1OGE3c0Y1d9eBsmD\n",
       "VIevrdZOeK/+srRIS8lvYOgApBWxL9KFGfDXuE5YTvCvjVwH4FbTM1AE9p6B5xdD013YajDJ8/Ib\n",
       "Hw9BN8XsU7X8W8yN41Zg9QtmD/Ewbv1CGXYVt9fh+9BDWYT2KTCfTQiyqUPCuLbxipk16U0eunif\n",
       "6n3PNONQ4aHbEJ32kiQpCsFydoxZAOFkD/Dowsi/sQ8wZTPs1DK7ntRxe5SsUZYmEkLfI3037a7h\n",
       "9j//xetksf16vDPicRwrG8zhYZsn6O8REvT0Acef0k8rFmW6UgIs5JeKfmanoH6DN/9F0Z2a3mHg\n",
       "LuZNU6tF2PZ4R0J4VL38JsD5HB+6z/Xa+G6txb+OcoLGxYOf71q8Im3OWHGq2dBb0C6GhjF3nObM\n",
       "jzUvhYA9BzzIUc1rozKOlJGlAUWVICrVcnczkYdUyStrxP3KlQdD1Lvprc38lONpe1whg1M1y3Fj\n",
       "3+n6a2OtaPfeZmo5qDZdUUI+RHFm40f3sv/P7FXG/MEtgrQjeGdSrgnCnKlnSx4nLu49cniE134Q\n",
       "vUuPfI3SKOcOkIB6osd0zkePMLT3aMpFd6y1sxcRwF4WY2vIMV/JodmivuDfIGoida4HTQBk/L0f\n",
       "kVdGyNAWMnJ5BwXfRR6i4qottAi+jfxmJJHPofQqHlTL7/x9izqMwoscIODNmvBLs71QE+axWZs3\n",
       "Ts0u6TBvH3kSctxMasov8KAuJK8uxgru2ZCHmC0UtEXPaaiaCY8ZZJNpYFKq+0Ob37Pm9pKckzeG\n",
       "RlQn08qPKAAS87QtvOCI7LmvxI/MhdWnzFPkjMpF0amtN0JVChIMRP+0F8Ppg9MroIc+f9Yvj34l\n",
       "dh/YRY/fzz4XRxTyJVbaIxVdpy5P3dW2Lwk/CVx9o+GVYl/6AAWEAW0AAAMDQZohbEFv/talUAAC\n",
       "uFLNagAtQzmEOFPYocPg7rf0XG+1wVoImIN622XE4wCSJ+OOQxgkR3CgxtXcEQZpE5/QoVM9HpZt\n",
       "aVw2O3J2kZXA96B7rnmdXy4t2eHuLCcXD64TRWgaO4haekLVwx68WxjtpBL8Mj6qSm1rplkxwKuL\n",
       "MiJqqN1JnU+yZoxcgv57TAtLftdj6FD9lO3QNSUGiDKGLtGgrlQcX4AcpH7fvhUNdlfXznmd8Yuj\n",
       "6hfGka/oYVCO5uEAlVgbYaYEUegQ4tgJkI2rH67Yx6salq0MDTEcioDkTog1uCk4HfMmlD01iepK\n",
       "MvqBpmGN6kAmMT/GZ/yZxXKPPir9yFPXxD4lX4Zt7uJY2kXqzDO/6IyVDVihHjExHJ80Y7Mbp6L3\n",
       "+mH49fdEmy3dN95bdM1f+GB+V0jQq9cY2KDUVLQ+4xRRCLCHFgO85pT798K3j/9yFUQXnwn7/P7u\n",
       "YxfCGgO0K9TE3oqAf3MKzZMCbLKK1nzHmHiVigNiVxLSVBMktT7g1VMgY68Hc2hMJZm+UZ8p6rYM\n",
       "x9DokCUfV99eNPSrARStmKYea4qcR76Jjhbh7OXB0rloNZF+1nB7xzan9nxJX5OvZjbUm8qvKaP4\n",
       "aJ9mC4pn9+t2Yc3VlFZOAD60NkcIMXwidBHkfWVgxamKpWyKfxYxt6c+Snk7ukzv7t/DYKAwKFhj\n",
       "CTbRFQrVKpBzcAgs207Q2zRwjJkNRUH0bdv2lekaB9r5o356664J31a3M4Mt8Z7d+Fm9pglc5Utf\n",
       "unXp9uNGNAWAuYHfnaVP/hhkOleerb4X51xPWBFD2bTaivS/b9cI2vDP2bizfxgufSenCAAAchkz\n",
       "u/XfwJormZP6rBTKxduUb7K54PNh2BFcuChqDT06+q3HK2nNXWLVx4KRUrfS3Ei7eGZSPa0rv0aw\n",
       "mlAagBLjhoeSQY+3t4YE9s8i1WJklj9QmIWxZ8hBm7qVaY3CqE9zZL5TG7sRirOsnJZxkFWWzwLw\n",
       "XpbseVFrfyVJ2fpCNAt4adSgAAADd0GaQjwhkymEFv/+1qVQAAK4ZuJQAkQ1QX7MVI4noTJ8Hrsx\n",
       "WI8mgHBv2p+a4So7ZStLfgt4JbR00sf52VD4RiGtYjW2kPenqM5Af0JkEzlZ/yP7otdGWJh+1269\n",
       "bRrjRqFCjo2HZHS1uAEStRLE85/AwYLx9fuZTz4mBB2Ad25+hzruaYV5Ck0Pt27Gr7Q0L/McX3cq\n",
       "WA8mVxcEzH8LK2pxwzFflpXuTu+NyAEHylTACZcnzb/hOcVBzZ1VPEh9uXBxVnkVYDOZy6ybJfIo\n",
       "Suf55aFSb1ThtPcCgMJWNYnzH5ZdcNTG4n6jAtLtP8AlwhRzGjkQUk0Qi92XxmAmiug3KiSKJ2Fd\n",
       "o9cGdtmVj+O4Dw0Amt4dKq1zqK9tpMGxCJOgRUF2zdh/Z8P2y3hAi5TifIDHWN0RLdoKT6kuO5Ag\n",
       "8TTu4dHNzg9iXEEUmtFEMezx3vfbsONwGj21b4GGdTyXu9O6odYV6UdZGh8gjFiD9YnnHsUbLnrr\n",
       "WmPMlpWZ1RBhGWJXEhE8ny2RRWTMt+QjxBaWxrytOnYAbkgFFMiQpXU4McS51UWBlgpgW/EATwGL\n",
       "pj83PvcAspP89EauqoqTXoXTH9RR3JDU6dPV0iowFgxeNofA1Tp/s8wWx2mK1Q0waFemejzouUKK\n",
       "jApPF/YnTqFw+83aowuu9ikiJKAMeBTvNf+GzzhAmHXAfuo703fDjIpzCTgUE8BjO4EZxOcS9u3m\n",
       "43OHK3LDMaVoCKgQwyi0Bz87vi8e63PSr+Yj8Bo2S2uy3YtqIktSsxMPw9jHfjrb/XmgheFYhY0I\n",
       "5eUi/n6T1CMmKErcLj1imKjSXykMWWcTEGTP0nucoum2MoPxhqna2EtZaBlEil6FZOQ41/IHNmR5\n",
       "TLch7GcFuUjcb6YfTrmtRVsGzWy5aBoclvj37SMz/jy53MSWfme9nJcip4EPPVYEYds9LzywjO4T\n",
       "mTBbQrSITYkVHloWQ3MWJs1RgR0+0mDrTLdGFMeyHbI9NraAIfSRbqXjWxar8zbiSy5YPqwq3MmA\n",
       "Sv1pEw38roAEnaiIsoKOCa2TsQknSB3XvndsefMfEwCLV8JkC/iSfYr7gTn3rWyyngX5+ZBkfVjk\n",
       "Ycno9Rtinfj+fYMHHJqG2meOuxrueFSkK/09pRfYP7GQPfMnFIcz6W3Wf1RdUywAAAMAAA/xAAAD\n",
       "DkGaY0nhDyZTAgr//talUAAAoH8/bn/EJPKZbbABEB3OoXP9jSkmwsOdN/4ZIL31HpV9CN+Lp3h8\n",
       "fSHlV/0IXpwWdROSidYWEOppMH8Om78P68KP3WSclK/6bkc7MvQgaquuRyieOUEyhEVy3nqXicAO\n",
       "yG8y3ShaHOUgse+kpeZqM9ySrII6uYYcXlmpk+6rhZWekMPBk5wXiqQNWgCegPBDgFZAmuEtVs7y\n",
       "K8LVEtN7VzIHiT7aJg7WZbayoS1i4VVOrK4z5b0YgwVmtQl6VU0n0y/Q/gi2HOZz9iwsuLD8DwZM\n",
       "l/qu2b6+mW8FcWiCUmMLxFExhq1QzpE3h4veG8Zm3UXhlmriEsa+3wVYxa2zKpnLALg3ppWb9g9p\n",
       "13wGmg/5nEW6DmhvJ1DNY0t+R3dQt2F7uylrgzAGx3pc7wY9dtBLc06s61fhSD8WAeTWzhQSaDpk\n",
       "ZuwOXaAkc98jVQ3D8+RHGx/WleD3W25Dts09ujlkNRom30AZrfIJhtd9xYzLGShFh6SpEwW8ULRg\n",
       "GO5BSOgyKoW1XOS/fcmmacjwyOKPMm/1qHv/9HZk7lz2M615IelENZWsdK2+bU+OjqyA9CD/w+3V\n",
       "ykyehhmQo9hiVqqKnmM5SiZsPq11aLIHdOBm5BgDga0z2qZ03jfU9YlivcnfsRad6pZGcdcHBgPv\n",
       "9LTX9HTSK+ZkFLNMeK88s5ebgNWQGyLgmO6OvIBYcQTfQmDmmNIMUYW1ONJcW8vOC+pHEg2sMn3k\n",
       "TMsaPkUNtE8OTXx8PTXlr4CnQXmnGcAnt02kDzpaJErK8fMudd8XiOLVCvA5ifrJPpibLf3IMKsi\n",
       "3fdN9tyy2S7mk3Op494nBYgfehtGYvR6VPhA5qald47NGqIKFy1ZvcvEju9bwKLdnIHv/1KMwoWH\n",
       "TMH5RH+ufi155C2c8pRKtAnnS+G6iap1HC0dFFZG4aHkuwjagIRtWFy8qU5Tptxrs+rcbtrUm2aT\n",
       "rpZnTSZt3UfQMEBq00yPedD6GBpdh4Hseen3WryalUAAAOAobLd8AKuAAAACWUGahEnhDyZTAgp/\n",
       "/taMsAABQuN1Z1HOcIVcgAdm5b1gPZlt16IGKRz+0Im1hSKBvxz6X6ZBynqjZrjaT1FJjk7a1ve5\n",
       "ezFeyQjWmU9tca5cuQJQL+Yl+Vgwz4WmtKVwhRaZZFPpe+dpjXyHoWxXlEuFzeS7MIeVooe8ooHo\n",
       "vZK7xOukuxAJaBtBr36dQbsYqnSjUL6a+lMdDMQYN31I28x+CyG0RXRjdlxWbgQQDBIwjNtF5bgm\n",
       "KMM/1wFkWl8M7uAZF9NeHm8vsBAw0/kXjsJv+CzHGcXPh/Z+Wb0OJD5SvZCpLSMl7VJ99f9C2E2w\n",
       "HhNYL4RnLVmx4r1FZR0PLRNCQpdzXLibpl8BppS2GQFtc/gkQNE4bEWCR0J+JiigyzRFjDSxHasF\n",
       "kWK9Yvv2J49w11CqIw3nGpDSDfBnGy3JGIiPpQzOHdSXsxnXBBJZ3ynhP06a3z7YtvutEXCCS9Ag\n",
       "CaCepVzfGmQiy9yrHOVcQUmBLf97xasC09xlODw0ffKyEHgI32DeE29RDqCWUNFT9t8MzT6mnLoE\n",
       "+ISPygvHXdOyUbXwQArG0hqZ11icPeIJBKjkwOUArttU0/7/66R6sX1er3oT+EDEDMtnd3akN/qR\n",
       "OwBl7hDGtgmn3MZhp8Ce4S9jIFu1KZA0gx90F4rW/djrYbswCxhLwYTJ5pgIS1Mcm8L1d/5dy9F/\n",
       "cxYCiIuUXQqeU/z+j13i6yN+XrZEBd6aYr22HIAbo3NSNkomBkesQyGE+6Rigd1k1yQSrxD9PQxJ\n",
       "1oxYWEEwNWoH9JNSqAAAAwAAC2kAAANLbW9vdgAAAGxtdmhkAAAAAAAAAAAAAAAAAAAD6AAAD6AA\n",
       "AQAAAQAAAAAAAAAAAAAAAAEAAAAAAAAAAAAAAAAAAAABAAAAAAAAAAAAAAAAAABAAAAAAAAAAAAA\n",
       "AAAAAAAAAAAAAAAAAAAAAAAAAAAAAgAAAnV0cmFrAAAAXHRraGQAAAADAAAAAAAAAAAAAAABAAAA\n",
       "AAAAD6AAAAAAAAAAAAAAAAAAAAAAAAEAAAAAAAAAAAAAAAAAAAABAAAAAAAAAAAAAAAAAABAAAAA\n",
       "A2AAAAJAAAAAAAAkZWR0cwAAABxlbHN0AAAAAAAAAAEAAA+gAABAAAABAAAAAAHtbWRpYQAAACBt\n",
       "ZGhkAAAAAAAAAAAAAAAAAAAoAAAAoABVxAAAAAAALWhkbHIAAAAAAAAAAHZpZGUAAAAAAAAAAAAA\n",
       "AABWaWRlb0hhbmRsZXIAAAABmG1pbmYAAAAUdm1oZAAAAAEAAAAAAAAAAAAAACRkaW5mAAAAHGRy\n",
       "ZWYAAAAAAAAAAQAAAAx1cmwgAAAAAQAAAVhzdGJsAAAAtHN0c2QAAAAAAAAAAQAAAKRhdmMxAAAA\n",
       "AAAAAAEAAAAAAAAAAAAAAAAAAAAAA2ACQABIAAAASAAAAAAAAAABAAAAAAAAAAAAAAAAAAAAAAAA\n",
       "AAAAAAAAAAAAAAAAAAAAGP//AAAAMmF2Y0MBZAAf/+EAGWdkAB+s2UDYEmhAAAADAQAAAwACg8YM\n",
       "ZYABAAZo6+PLIsAAAAAcdXVpZGtoQPJfJE/FujmlG88DI/MAAAAAAAAAGHN0dHMAAAAAAAAAAQAA\n",
       "AAUAACAAAAAAFHN0c3MAAAAAAAAAAQAAAAEAAAAYY3R0cwAAAAAAAAABAAAABQAAQAAAAAAcc3Rz\n",
       "YwAAAAAAAAABAAAAAQAAAAUAAAABAAAAKHN0c3oAAAAAAAAAAAAAAAUAAEYgAAADBwAAA3sAAAMS\n",
       "AAACXQAAABRzdGNvAAAAAAAAAAEAAAAsAAAAYnVkdGEAAABabWV0YQAAAAAAAAAhaGRscgAAAAAA\n",
       "AAAAbWRpcmFwcGwAAAAAAAAAAAAAAAAtaWxzdAAAACWpdG9vAAAAHWRhdGEAAAABAAAAAExhdmY1\n",
       "Ni40MC4xMDE=\n",
       "\">\n",
       "  Your browser does not support the video tag.\n",
       "</video>"
      ],
      "text/plain": [
       "<IPython.core.display.HTML object>"
      ]
     },
     "execution_count": 15,
     "metadata": {},
     "output_type": "execute_result"
    }
   ],
   "source": [
    "ax.set_xlim([0, 2])\n",
    "ax.set_ylim([0, 6e-3])\n",
    "anim = animation.FuncAnimation(fig, animate, init_func=init, frames=5, interval=800); HTML(anim.to_html5_video())"
   ]
  },
  {
   "cell_type": "markdown",
   "metadata": {
    "slideshow": {
     "slide_type": "slide"
    }
   },
   "source": [
    "# Summary"
   ]
  },
  {
   "cell_type": "markdown",
   "metadata": {},
   "source": [
    "Usually, one way of writing the two mutually-coupled equations works fine while the other never works for any initial guess.\n",
    "\n",
    "*Take note:* The one that worked had the diode equation using the $\\ln()$.  This same effect is occurs with the vacuum diode equation of `hw09`.  Use the equation version solved which has the $X^{2/3}$ term instead of the $Y^{3/2}$ term.  One function has increasing slope as the input increases, the other \"flattens out\" as the input gets larger.\n",
    "\n",
    "Kind of makes you want to take a few more math courses like **MATH 370 Numerical Analysis** or **MATH 334 Complex Variables**, doesn't it?"
   ]
  },
  {
   "cell_type": "code",
   "execution_count": null,
   "metadata": {
    "collapsed": true
   },
   "outputs": [],
   "source": []
  }
 ],
 "metadata": {
  "celltoolbar": "Slideshow",
  "kernelspec": {
   "display_name": "Python [default]",
   "language": "python",
   "name": "python3"
  },
  "language_info": {
   "codemirror_mode": {
    "name": "ipython",
    "version": 3
   },
   "file_extension": ".py",
   "mimetype": "text/x-python",
   "name": "python",
   "nbconvert_exporter": "python",
   "pygments_lexer": "ipython3",
   "version": "3.6.1"
  },
  "livereveal": {
   "height": 720,
   "start_slideshow_at": "selected",
   "transition": "fade",
   "width": 1280
  },
  "title": "Notes on the guess-and-iterate method"
 },
 "nbformat": 4,
 "nbformat_minor": 1
}
