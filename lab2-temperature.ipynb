{
 "cells": [
  {
   "cell_type": "markdown",
   "metadata": {},
   "source": [
    "# Objective"
   ]
  },
  {
   "cell_type": "markdown",
   "metadata": {},
   "source": [
    "In this lab, we will investigate the effects of temperature on electronic devices -- resistors that change value with temperature and thermally-generated free charge carriers on the reverse-bias current through a diode.\n",
    "\n",
    "**NOTE:** Do not skim-read the procedure.  The wording is precise and specific, skipping steps or missing things will *guarantee* you will not finish your measurements within the scheduled lab time.  Many problems will be avoided if you do not try to rush through the procedure.\n",
    "\n",
    "**READ THE PROCEDURE CAREFULLY**\n",
    "\n",
    "**READ THE PROCEDURE CAREFULLY**\n",
    "\n",
    "**slow down...!**"
   ]
  },
  {
   "cell_type": "markdown",
   "metadata": {},
   "source": [
    "# Theory"
   ]
  },
  {
   "cell_type": "markdown",
   "metadata": {},
   "source": [
    "Skip this section for now and start with the Procedure section, read this while waiting for your measurements to stabilize."
   ]
  },
  {
   "cell_type": "markdown",
   "metadata": {},
   "source": [
    "## Silicon *pn* diode"
   ]
  },
  {
   "cell_type": "markdown",
   "metadata": {},
   "source": [
    "The silicon *pn* junction diode has an ideal current-voltage relationship of:\n",
    "\n",
    "\\begin{equation}\n",
    "I_D = I_s \\left(e^{V_D \\cdot q / (n k_B T)} - 1\\right)\n",
    "\\end{equation}\n",
    "\n",
    "The term $k_B T /q$ is known as the *thermal voltage* $V_T$ and is approximately $26 \\mathrm{mV}$ at room temperature, $n$ is called the *ideality factor* and is 1 for an ideal diode but larger (1--2 range) for a real diode.  $I_S$ is called the *saturation current*.  For reverse-bias (negative) voltages larger than a few hundred $\\mathrm{mV}$, the diode current can be considered $\\approx -I_S$, to a first-approximation.\n",
    "\n",
    "Besides the $1/T$ term explicitly showing up in the equation's exponent, the saturation current is a strong function of temperature as well.  It can be calculated from geometrical and material parameters as:\n",
    "\n",
    "\\begin{equation}\n",
    "I_S = A q n_i^2 \\left(\\dfrac{D_n}{N_A L_n} + \\dfrac{D_p}{N_D L_p}\\right)\n",
    "\\end{equation}\n",
    "\n",
    "where $A$ is the device's cross-sectional area, $L_n$ and $L_p$ are electron and hole \"diffusion lengths,\" respectively, $D_{n,p}$ are the diffusion constants, and $N_{A,D}$ are the doping for the *p* and *n* sides.  These parameters can be considered constants here.\n",
    "\n",
    "The Einstein Relation can be proven to relate the ratio of the diffusion constant to mobility in a material as:\n",
    "\n",
    "\\begin{equation}\n",
    "\\dfrac{D_{n,p}}{\\mu_{n,p}} = \\dfrac{k_B T}{q} = V_T\n",
    "\\end{equation}\n",
    "\n",
    "Solving for the diffusion constant, $D_{n,p} = \\mu_{n,p} \\dfrac{k_B T}{q}$, re-write the saturation current and factor out temperature:\n",
    "\n",
    "\\begin{equation}\n",
    "I_S = A q n_i^2 T \\left(\\dfrac{\\mu_n k_B}{q N_A L_n} + \\dfrac{\\mu_p k_B}{q N_D L_p}\\right)\n",
    "\\end{equation}\n",
    "\n",
    "Ignore the fact that mobility changes with temperature due to several effects, reaching a maximum at an intermediate temperature.\n",
    "\n",
    "The intrinsic carrier density also varies with temperature:\n",
    "\n",
    "\\begin{equation}\n",
    "n_i^2 = B T^3 e^{-E_G/(n k_b T)}\n",
    "\\end{equation}\n",
    "\n",
    "so,\n",
    "\n",
    "\\begin{equation}\n",
    "I_S = A q B T^4 e^{-E_G/(n k_b T)} \\left(\\dfrac{\\mu_n k_B}{q N_A L_n} + \\dfrac{\\mu_p k_B}{q N_D L_p}\\right)\n",
    "\\end{equation}\n",
    "\n",
    "We are interested in the temperature dependence of $I_S$ for a specific device, so collapse all the temperature-independent terms into a single constant:\n",
    "\n",
    "\\begin{equation}\n",
    "I_S(T) = C \\cdot T^4 e^{-E_G/(n k_b T)}\n",
    "\\end{equation}\n"
   ]
  },
  {
   "cell_type": "markdown",
   "metadata": {},
   "source": [
    "## Temperature-dependent resistors"
   ]
  },
  {
   "cell_type": "markdown",
   "metadata": {},
   "source": [
    "All materials change resistivity with changes in temperature.  The different types of resistor materials have varying sensitivity to temperature.  This change in resistance versus temperature for \"normal\" resistors is specified as its temperature coefficient of resistance (TCR) and has units of percent or PPM per degree.  Usually, $T_{ref}$ is room temperature.\n",
    "\n",
    "\\begin{equation}\n",
    "R(T) = R_{T_{ref}}\\left[ 1 + TCR\\left(\\frac{T}{T_{ref}}\\right) \\right]\n",
    "\\end{equation}\n",
    "\n",
    "See (Temperature Coefficient of Copper)[http://www.cirris.com/learning-center/general-testing/special-topics/177-temperature-coefficient-of-copper] for more information.\n",
    "\n",
    "Thermistors are devices which are *intended to* change their resistance with temperature.  Their obvious application is to measure temperature.  Other interesting applications include measurement of air speed and density in aircraft as the airstream cools the device.  Their resistance is dependent on temperature as approximately:\n",
    "\n",
    "\\begin{equation}\n",
    "R(T) = R_R \\exp \\left[B\\left(\\dfrac{1}{T} - \\dfrac{1}{T_R}\\right)\\right]\n",
    "\\end{equation}\n",
    "\n",
    "where $B$ is a constant for the specific device, and $R_R$ and $T_R$ are the resistance at the rated temperature.  For the thermistors used in the lab, they are rated $1\\mathrm{k\\Omega}$ at $25^\\circ C$ ($R_R=1k$, $T_R=25^\\circ C$) with constant $B = 3930 K$.  Be mindful of the temperature units in your calculations ($0^\\circ C =  273.15 K$).  See the file `NTC-general-technical-information.pdf` on Blackboard for more background information and `NTC_Leaded_disks_M891.pdf` for the specific values.\n",
    "\n",
    "A more accurate determination of resistance or temperature is obtained from using actual values and temperatures provided in tables in the device's datasheet and interpolating between the values.  Page 2 of the `NTC-standardizedrt.pdf` file on Blackboard describes the calculations and gives an example.  We are using the $1 \\mathrm{k\\Omega}$ rated thermistor, whose data table is number \"`1009`\" in the datasheet, file `NTC_Leaded_disks_M891.pdf` on Blackboard.\n",
    "\n",
    "\n"
   ]
  },
  {
   "cell_type": "markdown",
   "metadata": {},
   "source": [
    "# Procedure"
   ]
  },
  {
   "cell_type": "markdown",
   "metadata": {},
   "source": [
    "![Figure 1 - MiniChamber equivalent schematic](fig/minichamber.png)"
   ]
  },
  {
   "cell_type": "markdown",
   "metadata": {},
   "source": [
    "The general format of these instructions is: the first 1-2 sentences are your task to do and the rest of the item is a short description of what the task is about.\n",
    "\n",
    "**Goal:** Setup your oscilloscope to precisely measure very small DC values in the presence of noise and interference."
   ]
  },
  {
   "cell_type": "markdown",
   "metadata": {},
   "source": [
    "1. Turn down both outputs of the benchtop power supply to zero before turning it on.\n",
    "\n",
    "1. Connect the $+6\\,\\mathrm{V}$ power supply terminal to the node labeled `6V_or_0-20V` in **Figure 1**.\n",
    "\n",
    "1. Connect the $+20\\,\\mathrm{V}$ power supply terminal to the node labeled `0-20V` in **Figure 1**.\n",
    "\n",
    "1. Connect the `COM` terminal of the power supply to the node labeled `GND` in **Figure 1**.\n",
    "\n",
    "1. Connect oscilloscope channel 1's \"+\" terminal (the tip) to the triangle side of the diode and the black ground clip lead to the node labeled `GND`.\n",
    "\n",
    "   * This makes it appear that channel 1 is connected across *nothing*, which is not necessarily intuitive.  The currents we will be measuring will start at a few $\\mathrm{nA}$, a million times below the range of cheap ammeters (the nice multimeters can measure this, but we don't have enough of them for every lab station).  With this connection scheme, the saturation current $I_S$ is forced to go through the $10 \\,\\mathrm{M\\Omega}$ input resistance of the oscilloscope+probe combination.  It is operating as a *current shunt*.  The voltage measured across this resistance by the scope is proportional to the current through it via Ohms \"Law\".  This current $I_S$ is shown in **Figure 1**.\n",
    "\n",
    "1. Connect oscilloscope channel 2's \"+\" terminal to the node between the MiniChamber's thermistor and the $2.7 \\,\\mathrm{k\\Omega}$ resistor.\n",
    "\n",
    "1. Turn on the power supply.  The outputs should already have been both set to zero.\n",
    "\n",
    "1. Raise the $+6\\,\\mathrm{V}$ power supply output to about $+6\\,\\mathrm{V}$ and record the actual value shown on the power supply's meter.  It is not critical to be at exactly $6.00$, but it **is** important to use the true measured value for your data collection and calculations.\n",
    "\n",
    "1. Touch the \"Default Setup\" key on the scope then select the \"Factory Default\" option in the soft menu (confirm that you want to reset to factory settings).  This completely resets your scope's settings.  Default Setup alone still leaves some settings unchanged.\n",
    "\n",
    "1. Touch the \"Acquire\" key on the scope and change the Acquire Mode to \"High Res\".  The manual says the scope displays the average of the many samples taken by the front-end for each displayed pixel in this mode.  \"Normal\" mode merely displays the first sample value in the interval.\n",
    "\n",
    "1. Change the trigger system to **trigger** on the **edge** of the **\"Line\" source**.  The signal you see is the superposition of the DC value to be measured, noise, and the $60 \\,\\mathrm{Hz}$ electric and magnetic fields in the room from the building power.  The signals we are interested in are DC only, but the probe will pick up a large amount of powerline interference as you can see on the screen.  This keeps the display stable so we can then average-out the display and make more precise measurements.\n",
    "\n",
    "1. Change the vertical scale and vertical position of both channels ($V_{thm}$ and $V_{I_S}$) to show both the entire signal waveform and the channel's $0 \\,\\mathrm{V}$ reference level.  The goal is to maximize the amount of screen area the signal takes up while still keeping the 0 reference and signal on the screen without spilling above or below.  This gives you the most accurate measurements.\n",
    "\n",
    "1. Change the horizontal scale to show at least 5 periods of the $60 \\,\\mathrm{Hz}$ interference waveform.\n",
    "\n",
    "1. Using the measurement functions, display the *full-screen averages* of both channel voltages.\n",
    "\n",
    "1. Observe these measurements and record them when they stop slowly changing up or down.\n",
    "\n",
    "1. Increase the $0-20 \\,\\mathrm{V}$ power supply output in $2.0 \\,\\mathrm{V}$ increments until it reaches $6.0 \\,\\mathrm{V}$ and then $1.0 \\,\\mathrm{V}$ increments.  (0, 2, 4, 6, **7**, **8**, **9**, ...)\n",
    "\n",
    "      * At each increment, wait for the temperature to reach equilibrium, indicated when both measurements stop changing.  Calculate a time to wait between making a change and taking each measurement that allows you to finish all your measurements at 10 minutes before the lab session ends.\n",
    "  \n",
    "      * These changes will be slow and small at first.  $V_{I_S}$ will be around $40 \\,\\mathrm{mV}$ at the beginning.  **(You)** Calculate the expected value of $V_{thm}$ at room temperature, when the thermistor resistance is around $1 \\,\\mathrm{k\\Omega}$.\n",
    "  \n",
    "      * At the end of each increment's time interval:\n",
    "        * Record **5** data values:\n",
    "        * The $20 \\mathrm{V}$ supply voltage\n",
    "        * The $20 \\mathrm{V}$ supply current\n",
    "        * The voltage at the node labeled `6V_or_0-20V`.\n",
    "        * $V_{I_S}$ (oscilloscope channel 1)\n",
    "        * $V_{thm}$ (oscilloscope channel 2)\n",
    "  \n",
    "      * When the $20 \\,\\mathrm{V}$ supply increment reaches $6 \\,\\mathrm{V}$: Move the power supply connection to node labeled `6V_or_0-20V` from the $6\\,\\mathrm{V}$ output to the $20 \\,\\mathrm{V}$ output.  The diode, heater, and $2.7 \\,\\mathrm{k\\Omega}$ resistor will therefore all be connected to the $20 \\,\\mathrm{V}$ output and the $6 \\mathrm{V}$ power supply will then be disconnected.\n",
    "  \n",
    "      * Stop the experiment when either the thermistor reaches the calculated resistance for $100 \\,\\mathrm{^\\circ C}$ **or** the MiniChamber appears to be becoming damaged (smoke, noise, etc.).\n",
    "      \n",
    "\n",
    "\n",
    "1. While waiting for each measurement to stabilize: setup your calculations and plots, viewing each new data point as you enter them.  It is useful to pre-define the \"plot range\" to be the full number of rows you expect to have, this way you do not need to update that range for each new data point.\n",
    "\n",
    "1. Calculate what the thermistor's resistance will be at $100 \\mathrm{^\\circ C}$ using **Equation 9**.  This is the maximum temperature the MiniChamber should reach with the corresponding thermistor resistance."
   ]
  },
  {
   "cell_type": "raw",
   "metadata": {},
   "source": [
    "\\newpage"
   ]
  },
  {
   "cell_type": "markdown",
   "metadata": {},
   "source": [
    "## Analysis"
   ]
  },
  {
   "cell_type": "markdown",
   "metadata": {},
   "source": [
    "Use Excel or Google Sheets to perform these calculations.\n",
    "\n",
    "1. Using circuit analysis and the thermistor datasheet, determine the **thermistor resistance** and **temperature** for each of your $V_{thm}$ measurements.\n",
    "\n",
    "2. Calculate the **heat power** supplied to the system by the heater resistor at each measurement point.\n",
    "\n",
    "3. Using circuit analysis, calculate the **diode saturation current $I_S$** as measured by the oscilloscope probe $V_{Is}$.  (Technically we are measuring the diode's leakage current instead.)\n",
    "\n",
    "4. From the heater resistor's applied voltage and resulting measured current, calculate the **heater's effective resistance**.  It changes with temperature :(\n",
    "\n",
    "At this point, your spreadsheet will have 5 columns of raw data, and 5 columns of calculated values from this data.  Keep the columns in separate groups to visually differentiate from raw data measurements and derived numbers; this is good lab practice.\n",
    "\n",
    "From the numbers, generate the following plots:\n",
    "(remember: \"$y$ vs. $x$\")\n",
    "\n",
    "1. $I_S$ vs. temperature\n",
    "\n",
    "    * On this figure, also plot the theoretical value of $I_S$ versus temperature.  Choose the constants $C$ and $n$ which best fit your measured data.  $n$ will be between $1$ and $2$.\n",
    "    * Use a log scale for $I_S$ and linear scale for temperature.\n",
    "    * Compare the measured and theoretical plots and comment on them.\n",
    "    * Compare this plot to Figure 5 of the `1N4148_NXP.pdf` datasheet.\n",
    "\n",
    "2. Temperature vs. heat power\n",
    "\n",
    "    * Also calculate the slope in units of $^\\circ \\mathrm{C} / W$.\n",
    "    * This represents the thermal resistance of the heat transfer from the heater resistor to the room of the entire device.  ECEs use this type of information in calculating the size of heatsinks.\n",
    "    \n",
    "3. Heater resistance vs. temperature\n",
    "\n",
    "    * Find the slope as $\\mathrm{PPM} / ^\\circ \\mathrm{C}$.   Parts-per-million (PPM) is like percentage, but uses $1 / 10^6$ instead of the $1 / 100$ factor for percentage.  PPM is a very common term for specifying small relative measurements."
   ]
  },
  {
   "cell_type": "markdown",
   "metadata": {},
   "source": [
    "## Report"
   ]
  },
  {
   "cell_type": "markdown",
   "metadata": {},
   "source": [
    "Refer to the document `Lab Report Guidelines.pdf` on Blackboard for the format for your report."
   ]
  }
 ],
 "metadata": {
  "anaconda-cloud": {},
  "date": "Fall 2017",
  "kernelspec": {
   "display_name": "Python [conda root]",
   "language": "python",
   "name": "conda-root-py"
  },
  "language_info": {
   "codemirror_mode": {
    "name": "ipython",
    "version": 3
   },
   "file_extension": ".py",
   "mimetype": "text/x-python",
   "name": "python",
   "nbconvert_exporter": "python",
   "pygments_lexer": "ipython3",
   "version": "3.6.2"
  },
  "title": "ECE 340 Lab 2 Temperature and Semiconductors"
 },
 "nbformat": 4,
 "nbformat_minor": 1
}
