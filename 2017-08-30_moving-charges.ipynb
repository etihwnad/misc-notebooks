{
 "cells": [
  {
   "cell_type": "markdown",
   "metadata": {
    "slideshow": {
     "slide_type": "slide"
    }
   },
   "source": [
    "# Summary from last class\n",
    "\n",
    "## Instrinsic charge carrier concentration\n",
    "The concentration of thermally-generated electron-hole pairs varies (lots!) with temperature, and is:\n",
    "\n",
    "$$n_i = B \\cdot T^{3/2} \\cdot \\exp\\left(\\dfrac{-E_g}{2 k_B T}\\right) \\;\\; \\mathrm{\\#/cm^3}$$"
   ]
  },
  {
   "cell_type": "markdown",
   "metadata": {
    "slideshow": {
     "slide_type": "subslide"
    }
   },
   "source": [
    "## Doping\n",
    "\n",
    "Adding impurities to the crystal from Group III or IV elements (replacing an Si atom with another like B or P) also adds extra electrons or holes to the structure.\n",
    "\n",
    "Impurities which add extra *free electrons* are called **donors**, with concentration $N_D \\;\\; \\mathrm{cm^{-3}}$.\n",
    "\n",
    "Impurities which add extra (free) *holes* are **acceptors**: $N_A \\;\\; \\mathrm{cm^{-3}}$."
   ]
  },
  {
   "cell_type": "markdown",
   "metadata": {
    "slideshow": {
     "slide_type": "subslide"
    }
   },
   "source": [
    "Even when doped, a semiconductor crystal has no net charge\n",
    "\n",
    "$$\\sum \\text{charges} = q \\left( +N_D + p - N_A - n \\right) = 0$$\n",
    "\n",
    "This, combined with the fundamental relationship\n",
    "\n",
    "$$n\\cdot p = n_i^2$$"
   ]
  },
  {
   "cell_type": "markdown",
   "metadata": {
    "slideshow": {
     "slide_type": "subslide"
    }
   },
   "source": [
    "Allows us to calculate the concentration of *free electrons* and *holes* for any doping condition (always choose $+$ version):\n",
    "\n",
    "$$n = \\dfrac{(N_D - N_A) \\pm \\sqrt{(N_D - N_A)^2 + 4 n_i^2}}{2} \\; \\text{ and } \\; p = \\dfrac{n_i^2}{n}$$"
   ]
  },
  {
   "cell_type": "markdown",
   "metadata": {
    "slideshow": {
     "slide_type": "fragment"
    }
   },
   "source": [
    "or, solved the other way:\n",
    "\n",
    "$$p = \\dfrac{(N_A - N_D) + \\sqrt{(N_A - N_D)^2 + 4 n_i^2}}{2} \\; \\text{ and } \\; n = \\dfrac{n_i^2}{p}$$"
   ]
  },
  {
   "cell_type": "markdown",
   "metadata": {
    "slideshow": {
     "slide_type": "subslide"
    }
   },
   "source": [
    "**Q:** Are the above two sets of solutions equivalent?"
   ]
  },
  {
   "cell_type": "markdown",
   "metadata": {
    "slideshow": {
     "slide_type": "fragment"
    }
   },
   "source": [
    "**Q:** Does it matter which set to use depending on which of $N_D$ or $N_A$ is larger?"
   ]
  },
  {
   "cell_type": "markdown",
   "metadata": {
    "slideshow": {
     "slide_type": "subslide"
    }
   },
   "source": [
    "When we dope in practice, the impurities $N_D$ and/or $N_A$ are in the range $10^{14} \\text{ to } 10^{21} \\; \\mathrm{cm^{-3}}$, which is much greater than $n_i$ at normal temperatures.  This results in us using the following approximations all the time:\n",
    "\n",
    "$$\\text{when $N_D$ is largest:  } n \\approx N_D \\text{  and  } p \\approx n_i^2/N_D$$\n",
    "\n",
    "$$\\text{when $N_A$ is largest:  } p \\approx N_A \\text{ and } n \\approx n_i^2/N_A $$\n",
    "\n",
    "$\\rightarrow$ Notice how only the minority carrier concentrations are affected by temperature (holes for n-type doping, electrons for p-type doping)."
   ]
  },
  {
   "cell_type": "markdown",
   "metadata": {
    "collapsed": true,
    "slideshow": {
     "slide_type": "subslide"
    }
   },
   "source": [
    "## Conclusions\n",
    "\n",
    "* $n_i$ varies lots with temperature\n",
    "* We can change the concentration of free electrons ($n$) and (free) holes ($p$) by **doping**.\n",
    "* Minority carrier concentrations are greatly affected by temperature.  Majority carriers not so much."
   ]
  },
  {
   "cell_type": "markdown",
   "metadata": {
    "slideshow": {
     "slide_type": "slide"
    }
   },
   "source": [
    "# Charge movement in semiconductors\n",
    "\n",
    "* Drift - constant velocity proportional to E-field\n",
    "* Diffusion - movement from high to low concentration"
   ]
  },
  {
   "cell_type": "markdown",
   "metadata": {
    "slideshow": {
     "slide_type": "slide"
    }
   },
   "source": [
    "## Drift current: Physics phundamentals\n",
    "\n",
    "* An electron in an electric field experiences a force.\n",
    "* This force causes the electron (which has mass) to accelerate.\n",
    "* Why does this not therefore cause an *increasing* current in a material?"
   ]
  },
  {
   "cell_type": "markdown",
   "metadata": {
    "label": "fig:scattering",
    "slideshow": {
     "slide_type": "subslide"
    }
   },
   "source": [
    "$\\rightarrow$ the electrons are scattered by the solid -- always accelerating but constantly getting knocked off track.\n",
    "\n",
    "![From: https://ecee.colorado.edu/~bart/book/book/chapter2/ch2_7.htm#fig2_7_2](fig/zeghbroeck_fig2_7_2.png)"
   ]
  },
  {
   "cell_type": "markdown",
   "metadata": {},
   "source": [
    "resulting in an *average velocity* which is constant and proportional to the applied E-field\n",
    "\n",
    "$$v \\propto \\vec{E}$$\n"
   ]
  },
  {
   "cell_type": "markdown",
   "metadata": {
    "slideshow": {
     "slide_type": "subslide"
    }
   },
   "source": [
    "\n",
    "The constant of proportionality is called **mobility** ($\\mu_n$ for electrons and $\\mu_p$ for holes).  Its units must be $\\mathrm{\\frac{cm^2}{V\\cdot s}}$.\n",
    "\n",
    "For silicon:\n",
    "* $\\mu_n = 1350 \\;\\;\\mathrm{\\frac{cm^2}{V\\cdot s}}$\n",
    "* $\\mu_p = \\phantom{1} 480 \\;\\;\\mathrm{\\frac{cm^2}{V\\cdot s}}$"
   ]
  },
  {
   "cell_type": "markdown",
   "metadata": {
    "slideshow": {
     "slide_type": "subslide"
    }
   },
   "source": [
    "Recall that $\\mathrm{V(olts)} = - \\int_a^b \\vec{E}\\,dx$.\n",
    "\n",
    "For holes: $\\vec{v}_h = \\mu_p \\vec{E}$ $\\rightarrow$ same direction as $\\vec{E}$ field vector.\n",
    "\n",
    "For electrons: $\\vec{v}_e = -\\mu_n \\vec{E}$ $\\rightarrow$ opposite direction as $\\vec{E}$ field vector."
   ]
  },
  {
   "cell_type": "markdown",
   "metadata": {
    "slideshow": {
     "slide_type": "subslide"
    }
   },
   "source": [
    "Current flow in a bar:\n",
    "\n",
    "![Voltage source across a conductive bar.](fig/current-flow-bar.png)"
   ]
  },
  {
   "cell_type": "markdown",
   "metadata": {
    "slideshow": {
     "slide_type": "subslide"
    }
   },
   "source": [
    "Start with current due to electrons:\n",
    "\n",
    "![Electron current](fig/electron-current.png)"
   ]
  },
  {
   "cell_type": "markdown",
   "metadata": {
    "slideshow": {
     "slide_type": "subslide"
    }
   },
   "source": [
    "Substitute with electron velocity from earlier: $\\vec{v}_e = -\\mu_n \\vec{E}$ (see the double-negative!), then divide both sides by the cross-sectional area $W\\cdot h$.\n",
    "\n",
    "$$J_n = \\frac{I_n}{W\\cdot h} = \\mu_n \\vec{E} \\cdot n \\cdot q$$\n",
    "\n",
    "$J_n$ has units of $\\mathrm{A / cm^2}$: *current flux*.  In an unfortunate naming convention, everyone else calls this term electron **current density**."
   ]
  },
  {
   "cell_type": "markdown",
   "metadata": {
    "slideshow": {
     "slide_type": "subslide"
    }
   },
   "source": [
    "By the same reasoning, we can find the hole **current density**\n",
    "\n",
    "$$J_p = \\left(\\text{hole velocity}\\right) \\left(\\text{charge density}\\right)$$\n",
    "\n",
    "$$J_p = \\left(\\mu_p \\vec{E}\\right) \\left(p \\cdot q\\right)$$"
   ]
  },
  {
   "cell_type": "markdown",
   "metadata": {},
   "source": [
    "The total **current density** is then\n",
    "\n",
    "$$J_{total} = J_n + J_p$$\n",
    "\n",
    "$$J_{total} = q \\left( \\mu_n n + \\mu_p p \\right) \\cdot \\vec{E} \\;\\; \\mathrm{A/cm^2}$$"
   ]
  },
  {
   "cell_type": "markdown",
   "metadata": {
    "slideshow": {
     "slide_type": "subslide"
    }
   },
   "source": [
    "### Mobility changes with doping :(\n",
    "\n",
    "![From: B. Van Zeghbroeck, Principles of Electronic Devices.](fig/zeghbroeck_fig2_7_3.png)\n",
    "\n",
    "https://ecee.colorado.edu/~bart/book/\n",
    "\n"
   ]
  },
  {
   "cell_type": "markdown",
   "metadata": {
    "collapsed": true,
    "slideshow": {
     "slide_type": "subslide"
    }
   },
   "source": [
    "What causes this second-order effect?\n",
    "\n",
    "* More doping means a less uniform crystal and more opportunities for scattering.\n",
    "* But (free) charge density increases faster than mobility decreases, so conductivity still increases.\n"
   ]
  },
  {
   "cell_type": "markdown",
   "metadata": {
    "slideshow": {
     "slide_type": "subslide"
    }
   },
   "source": [
    "### Velocity saturation\n",
    "\n",
    "![Jaeger, Microelectronic Circuit Design](fig/jaeger-velocity-saturation.jpg)\n",
    "<!-- .element style=\"width:10000vw\" -->"
   ]
  },
  {
   "cell_type": "markdown",
   "metadata": {
    "slideshow": {
     "slide_type": "subslide"
    }
   },
   "source": [
    "At large E-field strengths, the drift velocity does not continue to increase (light speed is $3\\times 10^{10}\\;\\mathrm{cm/s}$).  The velocity (therefore current) remains constant and no longer varies with E-field (voltage).  In a circuit context, the device changes from behaving like a resistor to more like a current source.  Velocity saturation is very common in modern integrated circuits.  For example, a $130\\,\\mathrm{nm}$ chip process uses a $1.2\\,\\mathrm{V}$ supply voltage, giving internal E-fields of"
   ]
  },
  {
   "cell_type": "code",
   "execution_count": 1,
   "metadata": {
    "slideshow": {
     "slide_type": "fragment"
    }
   },
   "outputs": [
    {
     "name": "stdout",
     "output_type": "stream",
     "text": [
      "9.2e+04 V/cm\n"
     ]
    }
   ],
   "source": [
    "print('%2.2g V/cm' % (1.2 / 130e-9 / 100) )"
   ]
  },
  {
   "cell_type": "markdown",
   "metadata": {
    "slideshow": {
     "slide_type": "fragment"
    }
   },
   "source": [
    "... well within the velocity saturation regime."
   ]
  },
  {
   "cell_type": "code",
   "execution_count": null,
   "metadata": {
    "collapsed": true
   },
   "outputs": [],
   "source": []
  }
 ],
 "metadata": {
  "celltoolbar": "Edit Metadata",
  "kernelspec": {
   "display_name": "Python [conda root]",
   "language": "python",
   "name": "conda-root-py"
  },
  "language_info": {
   "codemirror_mode": {
    "name": "ipython",
    "version": 3
   },
   "file_extension": ".py",
   "mimetype": "text/x-python",
   "name": "python",
   "nbconvert_exporter": "python",
   "pygments_lexer": "ipython3",
   "version": "3.6.1"
  },
  "livereveal": {
   "height": 720,
   "start_slideshow_at": "selected",
   "transition": "fade",
   "width": 1280
  }
 },
 "nbformat": 4,
 "nbformat_minor": 2
}
