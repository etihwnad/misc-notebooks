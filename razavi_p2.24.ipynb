{
 "cells": [
  {
   "cell_type": "markdown",
   "metadata": {},
   "source": [
    "**Razavi p2.24 solution**\n",
    "\n",
    "![](fig/razavi_p2.24.png)"
   ]
  },
  {
   "cell_type": "code",
   "execution_count": 1,
   "metadata": {
    "collapsed": true
   },
   "outputs": [],
   "source": [
    "from numpy import exp\n",
    "from scipy.optimize import fsolve\n",
    "\n",
    "Is = 3e-16\n",
    "VT = 0.026\n",
    "\n",
    "def func(Vd, Ix=None):\n",
    "    # sum of currents leaving top node (= 0)\n",
    "    return Vd/1000.0 + Is*(exp(Vd/VT)-1) - Ix"
   ]
  },
  {
   "cell_type": "code",
   "execution_count": 2,
   "metadata": {},
   "outputs": [
    {
     "name": "stdout",
     "output_type": "stream",
     "text": [
      "Ix (mA)   Vd (V)\n",
      "    1.0   0.7169\n",
      "    2.0   0.7554\n",
      "    4.0   0.7801\n"
     ]
    }
   ],
   "source": [
    "print('%7s  %7s' % ('Ix (mA)', 'Vd (V)'))\n",
    "for Ix in (1e-3, 2e-3, 4e-3):\n",
    "    # find where func == 0\n",
    "    # first guess is 1.0 here\n",
    "    # func has an extra argument Ix\n",
    "    vd = fsolve(func, 1.0, args=(Ix,))\n",
    "    \n",
    "    print('%7.1f  %7.4f' % (Ix*1000, vd))"
   ]
  }
 ],
 "metadata": {
  "kernelspec": {
   "display_name": "Python [default]",
   "language": "python",
   "name": "python3"
  },
  "language_info": {
   "codemirror_mode": {
    "name": "ipython",
    "version": 3
   },
   "file_extension": ".py",
   "mimetype": "text/x-python",
   "name": "python",
   "nbconvert_exporter": "python",
   "pygments_lexer": "ipython3",
   "version": "3.6.1"
  }
 },
 "nbformat": 4,
 "nbformat_minor": 1
}
