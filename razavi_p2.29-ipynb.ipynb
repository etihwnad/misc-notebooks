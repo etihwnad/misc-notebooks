{
 "cells": [
  {
   "cell_type": "markdown",
   "metadata": {},
   "source": [
    "**Razavi p2.29 solution**\n",
    "\n",
    "![](fig/razavi_p2.29.png)"
   ]
  },
  {
   "cell_type": "code",
   "execution_count": 1,
   "metadata": {},
   "outputs": [
    {
     "data": {
      "text/plain": [
       "array([ 1.48477592])"
      ]
     },
     "execution_count": 1,
     "metadata": {},
     "output_type": "execute_result"
    }
   ],
   "source": [
    "from numpy import exp\n",
    "from scipy.optimize import fsolve\n",
    "\n",
    "Is = 5e-16\n",
    "VT = 0.026\n",
    "\n",
    "Ix = 2e-3\n",
    "\n",
    "def f29(Vr):\n",
    "    # Ix equation from KCL\n",
    "    return (Vr / 2e3) + Is * (exp(Vr/(2*VT)) - 1) - Ix\n",
    "\n",
    "fsolve(f29, 1.5)"
   ]
  }
 ],
 "metadata": {
  "kernelspec": {
   "display_name": "Python [default]",
   "language": "python",
   "name": "python3"
  },
  "language_info": {
   "codemirror_mode": {
    "name": "ipython",
    "version": 3
   },
   "file_extension": ".py",
   "mimetype": "text/x-python",
   "name": "python",
   "nbconvert_exporter": "python",
   "pygments_lexer": "ipython3",
   "version": "3.6.1"
  }
 },
 "nbformat": 4,
 "nbformat_minor": 1
}
